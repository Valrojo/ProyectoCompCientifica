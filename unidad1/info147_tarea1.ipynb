{
 "cells": [
  {
   "cell_type": "markdown",
   "metadata": {},
   "source": [
    "# Tarea 1: Explorando datos mundiales de COVID-19 \n",
    "\n",
    "En esta actividad se pide que explore los datos del repositorio [\"COVID-19 Data Repository by the Center for Systems Science and Engineering (CSSE) at Johns Hopkins University\"](https://github.com/CSSEGISandData/COVID-19)\n",
    "\n",
    "Adjunto a este cuadernillo encontrará los datos al 26 de Abril de 2021 de dicho repositorio en el archivo `data.zip`. Luego de descomprimir debería observar cuatro archivos\n",
    "\n",
    "- `covid19_confirmados.csv` : Número de casos diarios acumulado reportados como COVID-19 positivos (confirmados)\n",
    "- `covid19_recuperados.csv` : Número de casos diarios acumulado reportados como recuperados \n",
    "- `covid19_decesos.csv` : Número de decesos diarios por COVID-19 acumulado \n",
    "- `population_by_country_2020.csv`:  Población por país más otros indicadores socioeconómicos al 2020 descargados desde: https://www.kaggle.com/tanuprabhu/population-by-country-2020\n",
    "\n",
    "En los primeros tres archivos cada fila corresponde a un país o un estado/provincia de un país. Las columnas son las coordenadas geográficas (latitud y longitud) y el número de casos diarios para cada día desde Enero de 2020 a la fecha. Según quienes compilaron este repositorio, la información de casos recuperados debe analizarse con cautela pues podría estar considerablemente subestimada. \n",
    "\n",
    "A modo de ejemplo se muestra a continuación una gráfica de la series de tiempo del número de casos confirmados totales acumulados de Chile, Argentina y Bolivia \n",
    "\n",
    "<img src=\"ejemplo1.png\">\n",
    "\n",
    "A partir de esta información se puede calcular la serie de tiempo de los casos confirmados \"nuevos\" por día\n",
    "\n",
    "<img src=\"ejemplo2.png\">\n",
    "\n",
    "En esta tarea se pide que procese, visualice, analice y discuta en base a estos datos. Escriba las rutinas de Python necesarias para resolver las actividades específicas que encontrará en este enunciado. **Use las librerías vistas en el curso**. Discuta con sus compañeros de grupo y complete con su análisis donde corresponda."
   ]
  },
  {
   "cell_type": "markdown",
   "metadata": {},
   "source": [
    "## Instrucciones generales \n",
    "\n",
    "1. Forme un grupo de **máximo tres estudiantes**\n",
    "1. Versione su trabajo usando un **repositorio privado de github**. Agregue a sus compañeros y a su profesor (usuario github: phuijse) en la pestaña *Settings/Manage access*. No se aceptarán consultas de programación si no se cumple este requisito\n",
    "1. Su tarea se evaluará en base al último commit antes de la fecha de entrega: **14:10 del 10 de Mayo de 2021**. La nota se calcula como (\"pt totales\" + 1)\n",
    "1. [Sean leales y honestos](https://www.acm.org/about-acm/code-of-ethics-in-spanish), no copie ni comparta resultados con otros grupos"
   ]
  },
  {
   "cell_type": "markdown",
   "metadata": {},
   "source": [
    "## Enunciado"
   ]
  },
  {
   "cell_type": "markdown",
   "metadata": {},
   "source": [
    "### Preparación de datos (1.5pt)"
   ]
  },
  {
   "cell_type": "markdown",
   "metadata": {},
   "source": [
    "1. Explore el archivo `covid19_confirmados.csv` y configure la función `read_csv` de pandas para importarlo como un `DataFrame`. \n",
    "    1. Utilice el nombre de país como índice principal\n",
    "    1. Elimine las columnas `Lat` y `Long`\n",
    "    1. Use TimeStamps para los \"nombres de columna\" asociados a fechas\n",
    "    1. Reduzca la columna `Province/State`, el DataFrame resultante debe tener los totales a nivel país\n",
    "1. Explore el archivo `mundiales.csv` y configure la función `read_csv` de pandas para importarlo como un `DataFrame`. \n",
    "    1. Utilice el nombre de país como índice principal. Algunos siglas o nombres podrían no calzar con el `DataFrame` anterior, modifíquelos manualmente o usando pandas. \n",
    "1. Haga un `merge` de los `DataFrame` anteriores. El objetivo es asignar un valor de `Population` a cada elemento del primer `DataFrame`. Indique las filas donde no se puede realizar el `merge` y luego descártelas de su `DataFrame` final\n",
    "1. Repita el procedimiento anterior para los archivos `covid19_recuperados.csv` y `covid19_muertes.csv` "
   ]
  },
  {
   "cell_type": "markdown",
   "metadata": {},
   "source": [
    "### Análisis global (1.5pt)\n",
    "\n",
    "1. Obtenga la cantidad total mundial a la fecha (26 de Abril) de los casos (a) confirmados, (b) cerrados (recuperados más decesos) y (c) activos (confirmados menos cerrados) por país. En base a estas cantidades calcule el porcentaje de \n",
    "    1. casos activos con respecto al total de confirmados\n",
    "    1. decesos con respecto al total de casos cerrados\n",
    "    1. recuperados con respecto al total de casos cerrados\n",
    "1. Luego calcule las siguientes tasas en base a información a la fecha\n",
    "    1. Tasa de incidencia: confirmados por 100.000 dividido población total\n",
    "    1. Tasa de recuperación: recuperados por 100.000 dividido población total\n",
    "    1. Tasa de mortalidad: decesos por 100.000 dividido población total\n",
    "1. En base a lo anterior muestre los nombres y los valores de los 5 países con\n",
    "    1. La mayor y menor tasa de incidencia, respectivamente\n",
    "    1. La mayor y menor tasa de recuperación, respectivamente\n",
    "    1. La mayor y menor tasa de mortalidad, respectivamente\n",
    "1. Responda, analice y discuta: ¿En qué lugar/ranking se encuentra Chile con respecto a cada una de las métricas de los puntos anteriores? ¿A qué países de la [OCDE](https://es.wikipedia.org/wiki/Organizaci%C3%B3n_para_la_Cooperaci%C3%B3n_y_el_Desarrollo_Econ%C3%B3micos) se parece más? ¿A qué paises de latinoamérica se parece más? "
   ]
  },
  {
   "cell_type": "markdown",
   "metadata": {},
   "source": [
    "### Análisis temporal y comparativo (2.0pt)\n",
    "\n",
    "1. Construya una interfaz gráfica usando `ipywidgets` y `matplotlib` que permita realizar comparaciones entre las series de tiempo de COVID-19 de dos países seleccionados arbitrariamente. A modo de simplificación considere sólo los países de la [OCDE](https://es.wikipedia.org/wiki/Organizaci%C3%B3n_para_la_Cooperaci%C3%B3n_y_el_Desarrollo_Econ%C3%B3micos). Requerimientos:\n",
    "    1. La interfaz debe incluir controles para escoger dos países a partir de una lista\n",
    "    1. La interfaz debe incluir tres [tabs](https://ipywidgets.readthedocs.io/en/latest/examples/Widget%20List.html#Tabs), el primero debe mostrar las series de tiempo de ambos países de los casos confirmados, el segundo la de recuperados y el tercero la de los decesos, respectivamente. Use una leyenda para indicar el nombre de los países.\n",
    "    1. La interfaz debe tener un control que permita escoger entre casos acumulados y casos nuevos  \n",
    "    1. La interfaz debe tener un control que permita escoger entre valores absolutos y valores relativos (tasas por 100.000 habitantes)\n",
    "    1. La interfaz debe tener un control que permita escoger entre valores diarios y valores semanales (acumulados). Para esto último se recomienda usar `groupby` con una [frecuencia lunes a lunes](https://pandas.pydata.org/pandas-docs/stable/user_guide/timeseries.html#anchored-offsets)\n",
    "    \n",
    "En base a su interfaz:   \n",
    "\n",
    "1. Describa en detalle la situación de Chile con respecto a la evolución temporal de las series de tiempo. En particular destaque patrones y comportamientos que considere relevantes y compare lo que observa en las distintas series de tiempo. Considerando la evolución a nivel de semana, conteste ¿En qué fechas ocurre un aumento o disminución notoria de los casos? ¿En qué fechas hay máximos y mínimos?\n",
    "1. Considerando métricas que sean relativas compare el caso de Chile contra cinco países de la OCDE seleccionados por ustedes. Destaque semejanzas y diferencias considerando las cantidades y los posibles desfases temporales existentes.\n"
   ]
  },
  {
   "cell_type": "markdown",
   "metadata": {},
   "source": [
    "### Dashboard interactivo (1.0pt)\n",
    "\n",
    "Implemente un *dashboard web* interactivo a partir de la interfaz desarrollada en el punto anterior utilizando la librería [voila](https://github.com/voila-dashboards/voila). Sirva su interfaz en la nube, para esto puede considerar los servicios gratuitos [binder](https://mybinder.org/) o [heroku](https://www.heroku.com/free). Revise la documentación de voila [con respecto a *deployment* en la nube](https://voila.readthedocs.io/en/stable/deploy.html) y este repositorio con [un ejemplo en base a heroku](https://github.com/voila-dashboards/voila-heroku). Entregue el link de su dashboard web"
   ]
  },
  {
   "cell_type": "markdown",
   "metadata": {},
   "source": [
    "# Desarrollo"
   ]
  },
  {
   "cell_type": "markdown",
   "metadata": {},
   "source": [
    "## Preparación de Datos"
   ]
  },
  {
   "cell_type": "code",
   "execution_count": 1,
   "metadata": {},
   "outputs": [],
   "source": [
    "import numpy as np\n",
    "import pandas as pd\n",
    "import matplotlib.pyplot as plt\n",
    "import matplotlib\n",
    "import matplotlib.dates as mdates\n",
    "from ipywidgets import interact, interactive, fixed, interact_manual\n",
    "import ipywidgets as widgets"
   ]
  },
  {
   "cell_type": "markdown",
   "metadata": {},
   "source": [
    "### covid19_confirmados.csv"
   ]
  },
  {
   "cell_type": "markdown",
   "metadata": {},
   "source": [
    "Creamos el DataFrame, hacemos index la columna 'Country/Region' y usamos TimeStamp para las columnas que son fechas"
   ]
  },
  {
   "cell_type": "code",
   "execution_count": 2,
   "metadata": {},
   "outputs": [],
   "source": [
    "covid19_confirmados = pd.read_csv(\"data/covid19_confirmados.csv\",index_col='Country/Region', parse_dates=True, infer_datetime_format=True)"
   ]
  },
  {
   "cell_type": "markdown",
   "metadata": {},
   "source": [
    "Eliminando Lat y Long"
   ]
  },
  {
   "cell_type": "code",
   "execution_count": 3,
   "metadata": {},
   "outputs": [],
   "source": [
    "covid19_confirmados.drop(labels = [\"Lat\",\"Long\"], axis=1, inplace =True)"
   ]
  },
  {
   "cell_type": "markdown",
   "metadata": {},
   "source": [
    "Agrupando por ciudad"
   ]
  },
  {
   "cell_type": "code",
   "execution_count": 4,
   "metadata": {},
   "outputs": [
    {
     "data": {
      "text/html": [
       "<div>\n",
       "<style scoped>\n",
       "    .dataframe tbody tr th:only-of-type {\n",
       "        vertical-align: middle;\n",
       "    }\n",
       "\n",
       "    .dataframe tbody tr th {\n",
       "        vertical-align: top;\n",
       "    }\n",
       "\n",
       "    .dataframe thead th {\n",
       "        text-align: right;\n",
       "    }\n",
       "</style>\n",
       "<table border=\"1\" class=\"dataframe\">\n",
       "  <thead>\n",
       "    <tr style=\"text-align: right;\">\n",
       "      <th></th>\n",
       "      <th>1/22/20</th>\n",
       "      <th>1/23/20</th>\n",
       "      <th>1/24/20</th>\n",
       "      <th>1/25/20</th>\n",
       "      <th>1/26/20</th>\n",
       "      <th>1/27/20</th>\n",
       "      <th>1/28/20</th>\n",
       "      <th>1/29/20</th>\n",
       "      <th>1/30/20</th>\n",
       "      <th>1/31/20</th>\n",
       "      <th>...</th>\n",
       "      <th>4/16/21</th>\n",
       "      <th>4/17/21</th>\n",
       "      <th>4/18/21</th>\n",
       "      <th>4/19/21</th>\n",
       "      <th>4/20/21</th>\n",
       "      <th>4/21/21</th>\n",
       "      <th>4/22/21</th>\n",
       "      <th>4/23/21</th>\n",
       "      <th>4/24/21</th>\n",
       "      <th>4/25/21</th>\n",
       "    </tr>\n",
       "    <tr>\n",
       "      <th>Country/Region</th>\n",
       "      <th></th>\n",
       "      <th></th>\n",
       "      <th></th>\n",
       "      <th></th>\n",
       "      <th></th>\n",
       "      <th></th>\n",
       "      <th></th>\n",
       "      <th></th>\n",
       "      <th></th>\n",
       "      <th></th>\n",
       "      <th></th>\n",
       "      <th></th>\n",
       "      <th></th>\n",
       "      <th></th>\n",
       "      <th></th>\n",
       "      <th></th>\n",
       "      <th></th>\n",
       "      <th></th>\n",
       "      <th></th>\n",
       "      <th></th>\n",
       "      <th></th>\n",
       "    </tr>\n",
       "  </thead>\n",
       "  <tbody>\n",
       "    <tr>\n",
       "      <th>Andorra</th>\n",
       "      <td>0</td>\n",
       "      <td>0</td>\n",
       "      <td>0</td>\n",
       "      <td>0</td>\n",
       "      <td>0</td>\n",
       "      <td>0</td>\n",
       "      <td>0</td>\n",
       "      <td>0</td>\n",
       "      <td>0</td>\n",
       "      <td>0</td>\n",
       "      <td>...</td>\n",
       "      <td>12712</td>\n",
       "      <td>12771</td>\n",
       "      <td>12805</td>\n",
       "      <td>12805</td>\n",
       "      <td>12874</td>\n",
       "      <td>12917</td>\n",
       "      <td>12942</td>\n",
       "      <td>13007</td>\n",
       "      <td>13024</td>\n",
       "      <td>13060</td>\n",
       "    </tr>\n",
       "  </tbody>\n",
       "</table>\n",
       "<p>1 rows × 460 columns</p>\n",
       "</div>"
      ],
      "text/plain": [
       "                1/22/20  1/23/20  1/24/20  1/25/20  1/26/20  1/27/20  1/28/20  \\\n",
       "Country/Region                                                                  \n",
       "Andorra               0        0        0        0        0        0        0   \n",
       "\n",
       "                1/29/20  1/30/20  1/31/20  ...  4/16/21  4/17/21  4/18/21  \\\n",
       "Country/Region                             ...                              \n",
       "Andorra               0        0        0  ...    12712    12771    12805   \n",
       "\n",
       "                4/19/21  4/20/21  4/21/21  4/22/21  4/23/21  4/24/21  4/25/21  \n",
       "Country/Region                                                                 \n",
       "Andorra           12805    12874    12917    12942    13007    13024    13060  \n",
       "\n",
       "[1 rows x 460 columns]"
      ]
     },
     "execution_count": 4,
     "metadata": {},
     "output_type": "execute_result"
    }
   ],
   "source": [
    "covid19_confirmados = covid19_confirmados.groupby(by=covid19_confirmados.index)[covid19_confirmados.columns].sum()\n",
    "covid19_confirmados[3:4:15]"
   ]
  },
  {
   "cell_type": "markdown",
   "metadata": {},
   "source": [
    "## population_by_country_2020.csv"
   ]
  },
  {
   "cell_type": "code",
   "execution_count": 5,
   "metadata": {},
   "outputs": [],
   "source": [
    " mundiales = pd.read_csv(\"data/population_by_country_2020.csv\", index_col = 'Country (or dependency)')"
   ]
  },
  {
   "cell_type": "code",
   "execution_count": 6,
   "metadata": {},
   "outputs": [
    {
     "data": {
      "text/html": [
       "<div>\n",
       "<style scoped>\n",
       "    .dataframe tbody tr th:only-of-type {\n",
       "        vertical-align: middle;\n",
       "    }\n",
       "\n",
       "    .dataframe tbody tr th {\n",
       "        vertical-align: top;\n",
       "    }\n",
       "\n",
       "    .dataframe thead th {\n",
       "        text-align: right;\n",
       "    }\n",
       "</style>\n",
       "<table border=\"1\" class=\"dataframe\">\n",
       "  <thead>\n",
       "    <tr style=\"text-align: right;\">\n",
       "      <th></th>\n",
       "      <th>Population (2020)</th>\n",
       "    </tr>\n",
       "    <tr>\n",
       "      <th>Country (or dependency)</th>\n",
       "      <th></th>\n",
       "    </tr>\n",
       "  </thead>\n",
       "  <tbody>\n",
       "    <tr>\n",
       "      <th>China</th>\n",
       "      <td>1440297825</td>\n",
       "    </tr>\n",
       "    <tr>\n",
       "      <th>India</th>\n",
       "      <td>1382345085</td>\n",
       "    </tr>\n",
       "    <tr>\n",
       "      <th>US</th>\n",
       "      <td>331341050</td>\n",
       "    </tr>\n",
       "    <tr>\n",
       "      <th>Indonesia</th>\n",
       "      <td>274021604</td>\n",
       "    </tr>\n",
       "    <tr>\n",
       "      <th>Pakistan</th>\n",
       "      <td>221612785</td>\n",
       "    </tr>\n",
       "  </tbody>\n",
       "</table>\n",
       "</div>"
      ],
      "text/plain": [
       "                         Population (2020)\n",
       "Country (or dependency)                   \n",
       "China                           1440297825\n",
       "India                           1382345085\n",
       "US                               331341050\n",
       "Indonesia                        274021604\n",
       "Pakistan                         221612785"
      ]
     },
     "execution_count": 6,
     "metadata": {},
     "output_type": "execute_result"
    }
   ],
   "source": [
    "mundiales.drop(mundiales.columns[[1,2,3,4,5,6,7,8,9]], axis='columns', inplace=True)\n",
    "mundiales.head()"
   ]
  },
  {
   "cell_type": "code",
   "execution_count": 7,
   "metadata": {},
   "outputs": [
    {
     "data": {
      "text/html": [
       "<div>\n",
       "<style scoped>\n",
       "    .dataframe tbody tr th:only-of-type {\n",
       "        vertical-align: middle;\n",
       "    }\n",
       "\n",
       "    .dataframe tbody tr th {\n",
       "        vertical-align: top;\n",
       "    }\n",
       "\n",
       "    .dataframe thead th {\n",
       "        text-align: right;\n",
       "    }\n",
       "</style>\n",
       "<table border=\"1\" class=\"dataframe\">\n",
       "  <thead>\n",
       "    <tr style=\"text-align: right;\">\n",
       "      <th></th>\n",
       "      <th>1/22/20</th>\n",
       "      <th>1/23/20</th>\n",
       "      <th>1/24/20</th>\n",
       "      <th>1/25/20</th>\n",
       "      <th>1/26/20</th>\n",
       "      <th>1/27/20</th>\n",
       "      <th>1/28/20</th>\n",
       "      <th>1/29/20</th>\n",
       "      <th>1/30/20</th>\n",
       "      <th>1/31/20</th>\n",
       "      <th>...</th>\n",
       "      <th>4/17/21</th>\n",
       "      <th>4/18/21</th>\n",
       "      <th>4/19/21</th>\n",
       "      <th>4/20/21</th>\n",
       "      <th>4/21/21</th>\n",
       "      <th>4/22/21</th>\n",
       "      <th>4/23/21</th>\n",
       "      <th>4/24/21</th>\n",
       "      <th>4/25/21</th>\n",
       "      <th>Population (2020)</th>\n",
       "    </tr>\n",
       "  </thead>\n",
       "  <tbody>\n",
       "    <tr>\n",
       "      <th>Afghanistan</th>\n",
       "      <td>0</td>\n",
       "      <td>0</td>\n",
       "      <td>0</td>\n",
       "      <td>0</td>\n",
       "      <td>0</td>\n",
       "      <td>0</td>\n",
       "      <td>0</td>\n",
       "      <td>0</td>\n",
       "      <td>0</td>\n",
       "      <td>0</td>\n",
       "      <td>...</td>\n",
       "      <td>57721</td>\n",
       "      <td>57793</td>\n",
       "      <td>57898</td>\n",
       "      <td>58037</td>\n",
       "      <td>58214</td>\n",
       "      <td>58312</td>\n",
       "      <td>58542</td>\n",
       "      <td>58730</td>\n",
       "      <td>58843</td>\n",
       "      <td>39074280</td>\n",
       "    </tr>\n",
       "    <tr>\n",
       "      <th>Albania</th>\n",
       "      <td>0</td>\n",
       "      <td>0</td>\n",
       "      <td>0</td>\n",
       "      <td>0</td>\n",
       "      <td>0</td>\n",
       "      <td>0</td>\n",
       "      <td>0</td>\n",
       "      <td>0</td>\n",
       "      <td>0</td>\n",
       "      <td>0</td>\n",
       "      <td>...</td>\n",
       "      <td>129456</td>\n",
       "      <td>129594</td>\n",
       "      <td>129694</td>\n",
       "      <td>129842</td>\n",
       "      <td>129980</td>\n",
       "      <td>130114</td>\n",
       "      <td>130270</td>\n",
       "      <td>130409</td>\n",
       "      <td>130537</td>\n",
       "      <td>2877239</td>\n",
       "    </tr>\n",
       "    <tr>\n",
       "      <th>Algeria</th>\n",
       "      <td>0</td>\n",
       "      <td>0</td>\n",
       "      <td>0</td>\n",
       "      <td>0</td>\n",
       "      <td>0</td>\n",
       "      <td>0</td>\n",
       "      <td>0</td>\n",
       "      <td>0</td>\n",
       "      <td>0</td>\n",
       "      <td>0</td>\n",
       "      <td>...</td>\n",
       "      <td>119486</td>\n",
       "      <td>119642</td>\n",
       "      <td>119805</td>\n",
       "      <td>119992</td>\n",
       "      <td>120174</td>\n",
       "      <td>120363</td>\n",
       "      <td>120562</td>\n",
       "      <td>120736</td>\n",
       "      <td>120922</td>\n",
       "      <td>43984569</td>\n",
       "    </tr>\n",
       "    <tr>\n",
       "      <th>Andorra</th>\n",
       "      <td>0</td>\n",
       "      <td>0</td>\n",
       "      <td>0</td>\n",
       "      <td>0</td>\n",
       "      <td>0</td>\n",
       "      <td>0</td>\n",
       "      <td>0</td>\n",
       "      <td>0</td>\n",
       "      <td>0</td>\n",
       "      <td>0</td>\n",
       "      <td>...</td>\n",
       "      <td>12771</td>\n",
       "      <td>12805</td>\n",
       "      <td>12805</td>\n",
       "      <td>12874</td>\n",
       "      <td>12917</td>\n",
       "      <td>12942</td>\n",
       "      <td>13007</td>\n",
       "      <td>13024</td>\n",
       "      <td>13060</td>\n",
       "      <td>77287</td>\n",
       "    </tr>\n",
       "    <tr>\n",
       "      <th>Angola</th>\n",
       "      <td>0</td>\n",
       "      <td>0</td>\n",
       "      <td>0</td>\n",
       "      <td>0</td>\n",
       "      <td>0</td>\n",
       "      <td>0</td>\n",
       "      <td>0</td>\n",
       "      <td>0</td>\n",
       "      <td>0</td>\n",
       "      <td>0</td>\n",
       "      <td>...</td>\n",
       "      <td>24300</td>\n",
       "      <td>24389</td>\n",
       "      <td>24518</td>\n",
       "      <td>24661</td>\n",
       "      <td>24883</td>\n",
       "      <td>25051</td>\n",
       "      <td>25279</td>\n",
       "      <td>25492</td>\n",
       "      <td>25609</td>\n",
       "      <td>33032075</td>\n",
       "    </tr>\n",
       "    <tr>\n",
       "      <th>Antigua and Barbuda</th>\n",
       "      <td>0</td>\n",
       "      <td>0</td>\n",
       "      <td>0</td>\n",
       "      <td>0</td>\n",
       "      <td>0</td>\n",
       "      <td>0</td>\n",
       "      <td>0</td>\n",
       "      <td>0</td>\n",
       "      <td>0</td>\n",
       "      <td>0</td>\n",
       "      <td>...</td>\n",
       "      <td>1216</td>\n",
       "      <td>1216</td>\n",
       "      <td>1217</td>\n",
       "      <td>1217</td>\n",
       "      <td>1217</td>\n",
       "      <td>1217</td>\n",
       "      <td>1222</td>\n",
       "      <td>1227</td>\n",
       "      <td>1227</td>\n",
       "      <td>98069</td>\n",
       "    </tr>\n",
       "    <tr>\n",
       "      <th>Argentina</th>\n",
       "      <td>0</td>\n",
       "      <td>0</td>\n",
       "      <td>0</td>\n",
       "      <td>0</td>\n",
       "      <td>0</td>\n",
       "      <td>0</td>\n",
       "      <td>0</td>\n",
       "      <td>0</td>\n",
       "      <td>0</td>\n",
       "      <td>0</td>\n",
       "      <td>...</td>\n",
       "      <td>2677747</td>\n",
       "      <td>2694014</td>\n",
       "      <td>2714475</td>\n",
       "      <td>2743620</td>\n",
       "      <td>2769552</td>\n",
       "      <td>2796768</td>\n",
       "      <td>2824652</td>\n",
       "      <td>2845872</td>\n",
       "      <td>2860884</td>\n",
       "      <td>45267449</td>\n",
       "    </tr>\n",
       "    <tr>\n",
       "      <th>Armenia</th>\n",
       "      <td>0</td>\n",
       "      <td>0</td>\n",
       "      <td>0</td>\n",
       "      <td>0</td>\n",
       "      <td>0</td>\n",
       "      <td>0</td>\n",
       "      <td>0</td>\n",
       "      <td>0</td>\n",
       "      <td>0</td>\n",
       "      <td>0</td>\n",
       "      <td>...</td>\n",
       "      <td>207973</td>\n",
       "      <td>208520</td>\n",
       "      <td>208818</td>\n",
       "      <td>209485</td>\n",
       "      <td>210518</td>\n",
       "      <td>211399</td>\n",
       "      <td>212114</td>\n",
       "      <td>212878</td>\n",
       "      <td>213288</td>\n",
       "      <td>2964219</td>\n",
       "    </tr>\n",
       "    <tr>\n",
       "      <th>Australia</th>\n",
       "      <td>0</td>\n",
       "      <td>0</td>\n",
       "      <td>0</td>\n",
       "      <td>0</td>\n",
       "      <td>4</td>\n",
       "      <td>5</td>\n",
       "      <td>5</td>\n",
       "      <td>6</td>\n",
       "      <td>9</td>\n",
       "      <td>9</td>\n",
       "      <td>...</td>\n",
       "      <td>29519</td>\n",
       "      <td>29533</td>\n",
       "      <td>29556</td>\n",
       "      <td>29576</td>\n",
       "      <td>29594</td>\n",
       "      <td>29638</td>\n",
       "      <td>29653</td>\n",
       "      <td>29663</td>\n",
       "      <td>29680</td>\n",
       "      <td>25550683</td>\n",
       "    </tr>\n",
       "    <tr>\n",
       "      <th>Austria</th>\n",
       "      <td>0</td>\n",
       "      <td>0</td>\n",
       "      <td>0</td>\n",
       "      <td>0</td>\n",
       "      <td>0</td>\n",
       "      <td>0</td>\n",
       "      <td>0</td>\n",
       "      <td>0</td>\n",
       "      <td>0</td>\n",
       "      <td>0</td>\n",
       "      <td>...</td>\n",
       "      <td>591347</td>\n",
       "      <td>593423</td>\n",
       "      <td>595540</td>\n",
       "      <td>597566</td>\n",
       "      <td>600089</td>\n",
       "      <td>602494</td>\n",
       "      <td>604823</td>\n",
       "      <td>606954</td>\n",
       "      <td>608979</td>\n",
       "      <td>9015361</td>\n",
       "    </tr>\n",
       "  </tbody>\n",
       "</table>\n",
       "<p>10 rows × 461 columns</p>\n",
       "</div>"
      ],
      "text/plain": [
       "                     1/22/20  1/23/20  1/24/20  1/25/20  1/26/20  1/27/20  \\\n",
       "Afghanistan                0        0        0        0        0        0   \n",
       "Albania                    0        0        0        0        0        0   \n",
       "Algeria                    0        0        0        0        0        0   \n",
       "Andorra                    0        0        0        0        0        0   \n",
       "Angola                     0        0        0        0        0        0   \n",
       "Antigua and Barbuda        0        0        0        0        0        0   \n",
       "Argentina                  0        0        0        0        0        0   \n",
       "Armenia                    0        0        0        0        0        0   \n",
       "Australia                  0        0        0        0        4        5   \n",
       "Austria                    0        0        0        0        0        0   \n",
       "\n",
       "                     1/28/20  1/29/20  1/30/20  1/31/20  ...  4/17/21  \\\n",
       "Afghanistan                0        0        0        0  ...    57721   \n",
       "Albania                    0        0        0        0  ...   129456   \n",
       "Algeria                    0        0        0        0  ...   119486   \n",
       "Andorra                    0        0        0        0  ...    12771   \n",
       "Angola                     0        0        0        0  ...    24300   \n",
       "Antigua and Barbuda        0        0        0        0  ...     1216   \n",
       "Argentina                  0        0        0        0  ...  2677747   \n",
       "Armenia                    0        0        0        0  ...   207973   \n",
       "Australia                  5        6        9        9  ...    29519   \n",
       "Austria                    0        0        0        0  ...   591347   \n",
       "\n",
       "                     4/18/21  4/19/21  4/20/21  4/21/21  4/22/21  4/23/21  \\\n",
       "Afghanistan            57793    57898    58037    58214    58312    58542   \n",
       "Albania               129594   129694   129842   129980   130114   130270   \n",
       "Algeria               119642   119805   119992   120174   120363   120562   \n",
       "Andorra                12805    12805    12874    12917    12942    13007   \n",
       "Angola                 24389    24518    24661    24883    25051    25279   \n",
       "Antigua and Barbuda     1216     1217     1217     1217     1217     1222   \n",
       "Argentina            2694014  2714475  2743620  2769552  2796768  2824652   \n",
       "Armenia               208520   208818   209485   210518   211399   212114   \n",
       "Australia              29533    29556    29576    29594    29638    29653   \n",
       "Austria               593423   595540   597566   600089   602494   604823   \n",
       "\n",
       "                     4/24/21  4/25/21  Population (2020)  \n",
       "Afghanistan            58730    58843           39074280  \n",
       "Albania               130409   130537            2877239  \n",
       "Algeria               120736   120922           43984569  \n",
       "Andorra                13024    13060              77287  \n",
       "Angola                 25492    25609           33032075  \n",
       "Antigua and Barbuda     1227     1227              98069  \n",
       "Argentina            2845872  2860884           45267449  \n",
       "Armenia               212878   213288            2964219  \n",
       "Australia              29663    29680           25550683  \n",
       "Austria               606954   608979            9015361  \n",
       "\n",
       "[10 rows x 461 columns]"
      ]
     },
     "execution_count": 7,
     "metadata": {},
     "output_type": "execute_result"
    }
   ],
   "source": [
    "confirmados_mundial = pd.merge(covid19_confirmados, mundiales, how = 'inner', left_index = True, right_index = True)\n",
    "confirmados_mundial.head(10)"
   ]
  },
  {
   "cell_type": "code",
   "execution_count": 8,
   "metadata": {},
   "outputs": [
    {
     "data": {
      "text/html": [
       "<div>\n",
       "<style scoped>\n",
       "    .dataframe tbody tr th:only-of-type {\n",
       "        vertical-align: middle;\n",
       "    }\n",
       "\n",
       "    .dataframe tbody tr th {\n",
       "        vertical-align: top;\n",
       "    }\n",
       "\n",
       "    .dataframe thead th {\n",
       "        text-align: right;\n",
       "    }\n",
       "</style>\n",
       "<table border=\"1\" class=\"dataframe\">\n",
       "  <thead>\n",
       "    <tr style=\"text-align: right;\">\n",
       "      <th></th>\n",
       "      <th>1/22/20</th>\n",
       "      <th>1/23/20</th>\n",
       "      <th>1/24/20</th>\n",
       "      <th>1/25/20</th>\n",
       "      <th>1/26/20</th>\n",
       "      <th>1/27/20</th>\n",
       "      <th>1/28/20</th>\n",
       "      <th>1/29/20</th>\n",
       "      <th>1/30/20</th>\n",
       "      <th>1/31/20</th>\n",
       "      <th>...</th>\n",
       "      <th>4/17/21</th>\n",
       "      <th>4/18/21</th>\n",
       "      <th>4/19/21</th>\n",
       "      <th>4/20/21</th>\n",
       "      <th>4/21/21</th>\n",
       "      <th>4/22/21</th>\n",
       "      <th>4/23/21</th>\n",
       "      <th>4/24/21</th>\n",
       "      <th>4/25/21</th>\n",
       "      <th>Population (2020)</th>\n",
       "    </tr>\n",
       "  </thead>\n",
       "  <tbody>\n",
       "  </tbody>\n",
       "</table>\n",
       "<p>0 rows × 461 columns</p>\n",
       "</div>"
      ],
      "text/plain": [
       "Empty DataFrame\n",
       "Columns: [1/22/20, 1/23/20, 1/24/20, 1/25/20, 1/26/20, 1/27/20, 1/28/20, 1/29/20, 1/30/20, 1/31/20, 2/1/20, 2/2/20, 2/3/20, 2/4/20, 2/5/20, 2/6/20, 2/7/20, 2/8/20, 2/9/20, 2/10/20, 2/11/20, 2/12/20, 2/13/20, 2/14/20, 2/15/20, 2/16/20, 2/17/20, 2/18/20, 2/19/20, 2/20/20, 2/21/20, 2/22/20, 2/23/20, 2/24/20, 2/25/20, 2/26/20, 2/27/20, 2/28/20, 2/29/20, 3/1/20, 3/2/20, 3/3/20, 3/4/20, 3/5/20, 3/6/20, 3/7/20, 3/8/20, 3/9/20, 3/10/20, 3/11/20, 3/12/20, 3/13/20, 3/14/20, 3/15/20, 3/16/20, 3/17/20, 3/18/20, 3/19/20, 3/20/20, 3/21/20, 3/22/20, 3/23/20, 3/24/20, 3/25/20, 3/26/20, 3/27/20, 3/28/20, 3/29/20, 3/30/20, 3/31/20, 4/1/20, 4/2/20, 4/3/20, 4/4/20, 4/5/20, 4/6/20, 4/7/20, 4/8/20, 4/9/20, 4/10/20, 4/11/20, 4/12/20, 4/13/20, 4/14/20, 4/15/20, 4/16/20, 4/17/20, 4/18/20, 4/19/20, 4/20/20, 4/21/20, 4/22/20, 4/23/20, 4/24/20, 4/25/20, 4/26/20, 4/27/20, 4/28/20, 4/29/20, 4/30/20, ...]\n",
       "Index: []\n",
       "\n",
       "[0 rows x 461 columns]"
      ]
     },
     "execution_count": 8,
     "metadata": {},
     "output_type": "execute_result"
    }
   ],
   "source": [
    "nan_values = confirmados_mundial[confirmados_mundial.isna().any(axis=1)]\n",
    "nan_values"
   ]
  },
  {
   "cell_type": "markdown",
   "metadata": {},
   "source": [
    "Al realizar un inner join no existen filas con valores NaN"
   ]
  },
  {
   "cell_type": "markdown",
   "metadata": {},
   "source": [
    "### covid19_recuperados.csv"
   ]
  },
  {
   "cell_type": "code",
   "execution_count": 9,
   "metadata": {},
   "outputs": [],
   "source": [
    "covid19_recuperados = pd.read_csv(\"data/covid19_recuperados.csv\",index_col='Country/Region', parse_dates=True, infer_datetime_format=True)"
   ]
  },
  {
   "cell_type": "code",
   "execution_count": 10,
   "metadata": {},
   "outputs": [],
   "source": [
    "covid19_recuperados.drop(labels = [\"Lat\",\"Long\"], axis=1, inplace =True)"
   ]
  },
  {
   "cell_type": "code",
   "execution_count": 11,
   "metadata": {},
   "outputs": [
    {
     "data": {
      "text/html": [
       "<div>\n",
       "<style scoped>\n",
       "    .dataframe tbody tr th:only-of-type {\n",
       "        vertical-align: middle;\n",
       "    }\n",
       "\n",
       "    .dataframe tbody tr th {\n",
       "        vertical-align: top;\n",
       "    }\n",
       "\n",
       "    .dataframe thead th {\n",
       "        text-align: right;\n",
       "    }\n",
       "</style>\n",
       "<table border=\"1\" class=\"dataframe\">\n",
       "  <thead>\n",
       "    <tr style=\"text-align: right;\">\n",
       "      <th></th>\n",
       "      <th>1/22/20</th>\n",
       "      <th>1/23/20</th>\n",
       "      <th>1/24/20</th>\n",
       "      <th>1/25/20</th>\n",
       "      <th>1/26/20</th>\n",
       "      <th>1/27/20</th>\n",
       "      <th>1/28/20</th>\n",
       "      <th>1/29/20</th>\n",
       "      <th>1/30/20</th>\n",
       "      <th>1/31/20</th>\n",
       "      <th>...</th>\n",
       "      <th>4/16/21</th>\n",
       "      <th>4/17/21</th>\n",
       "      <th>4/18/21</th>\n",
       "      <th>4/19/21</th>\n",
       "      <th>4/20/21</th>\n",
       "      <th>4/21/21</th>\n",
       "      <th>4/22/21</th>\n",
       "      <th>4/23/21</th>\n",
       "      <th>4/24/21</th>\n",
       "      <th>4/25/21</th>\n",
       "    </tr>\n",
       "    <tr>\n",
       "      <th>Country/Region</th>\n",
       "      <th></th>\n",
       "      <th></th>\n",
       "      <th></th>\n",
       "      <th></th>\n",
       "      <th></th>\n",
       "      <th></th>\n",
       "      <th></th>\n",
       "      <th></th>\n",
       "      <th></th>\n",
       "      <th></th>\n",
       "      <th></th>\n",
       "      <th></th>\n",
       "      <th></th>\n",
       "      <th></th>\n",
       "      <th></th>\n",
       "      <th></th>\n",
       "      <th></th>\n",
       "      <th></th>\n",
       "      <th></th>\n",
       "      <th></th>\n",
       "      <th></th>\n",
       "    </tr>\n",
       "  </thead>\n",
       "  <tbody>\n",
       "    <tr>\n",
       "      <th>Afghanistan</th>\n",
       "      <td>0</td>\n",
       "      <td>0</td>\n",
       "      <td>0</td>\n",
       "      <td>0</td>\n",
       "      <td>0</td>\n",
       "      <td>0</td>\n",
       "      <td>0</td>\n",
       "      <td>0</td>\n",
       "      <td>0</td>\n",
       "      <td>0</td>\n",
       "      <td>...</td>\n",
       "      <td>52105</td>\n",
       "      <td>52116</td>\n",
       "      <td>52168</td>\n",
       "      <td>52244</td>\n",
       "      <td>52272</td>\n",
       "      <td>52301</td>\n",
       "      <td>52348</td>\n",
       "      <td>52363</td>\n",
       "      <td>52392</td>\n",
       "      <td>52489</td>\n",
       "    </tr>\n",
       "    <tr>\n",
       "      <th>Albania</th>\n",
       "      <td>0</td>\n",
       "      <td>0</td>\n",
       "      <td>0</td>\n",
       "      <td>0</td>\n",
       "      <td>0</td>\n",
       "      <td>0</td>\n",
       "      <td>0</td>\n",
       "      <td>0</td>\n",
       "      <td>0</td>\n",
       "      <td>0</td>\n",
       "      <td>...</td>\n",
       "      <td>100600</td>\n",
       "      <td>101142</td>\n",
       "      <td>101584</td>\n",
       "      <td>102171</td>\n",
       "      <td>102601</td>\n",
       "      <td>103066</td>\n",
       "      <td>103582</td>\n",
       "      <td>104278</td>\n",
       "      <td>105016</td>\n",
       "      <td>105728</td>\n",
       "    </tr>\n",
       "    <tr>\n",
       "      <th>Algeria</th>\n",
       "      <td>0</td>\n",
       "      <td>0</td>\n",
       "      <td>0</td>\n",
       "      <td>0</td>\n",
       "      <td>0</td>\n",
       "      <td>0</td>\n",
       "      <td>0</td>\n",
       "      <td>0</td>\n",
       "      <td>0</td>\n",
       "      <td>0</td>\n",
       "      <td>...</td>\n",
       "      <td>83169</td>\n",
       "      <td>83286</td>\n",
       "      <td>83397</td>\n",
       "      <td>83514</td>\n",
       "      <td>83636</td>\n",
       "      <td>83765</td>\n",
       "      <td>83900</td>\n",
       "      <td>84038</td>\n",
       "      <td>84167</td>\n",
       "      <td>84299</td>\n",
       "    </tr>\n",
       "    <tr>\n",
       "      <th>Andorra</th>\n",
       "      <td>0</td>\n",
       "      <td>0</td>\n",
       "      <td>0</td>\n",
       "      <td>0</td>\n",
       "      <td>0</td>\n",
       "      <td>0</td>\n",
       "      <td>0</td>\n",
       "      <td>0</td>\n",
       "      <td>0</td>\n",
       "      <td>0</td>\n",
       "      <td>...</td>\n",
       "      <td>12105</td>\n",
       "      <td>12159</td>\n",
       "      <td>12203</td>\n",
       "      <td>12203</td>\n",
       "      <td>12285</td>\n",
       "      <td>12334</td>\n",
       "      <td>12375</td>\n",
       "      <td>12423</td>\n",
       "      <td>12458</td>\n",
       "      <td>12491</td>\n",
       "    </tr>\n",
       "    <tr>\n",
       "      <th>Angola</th>\n",
       "      <td>0</td>\n",
       "      <td>0</td>\n",
       "      <td>0</td>\n",
       "      <td>0</td>\n",
       "      <td>0</td>\n",
       "      <td>0</td>\n",
       "      <td>0</td>\n",
       "      <td>0</td>\n",
       "      <td>0</td>\n",
       "      <td>0</td>\n",
       "      <td>...</td>\n",
       "      <td>22203</td>\n",
       "      <td>22576</td>\n",
       "      <td>22597</td>\n",
       "      <td>22600</td>\n",
       "      <td>22647</td>\n",
       "      <td>22882</td>\n",
       "      <td>22901</td>\n",
       "      <td>23089</td>\n",
       "      <td>23092</td>\n",
       "      <td>23092</td>\n",
       "    </tr>\n",
       "  </tbody>\n",
       "</table>\n",
       "<p>5 rows × 460 columns</p>\n",
       "</div>"
      ],
      "text/plain": [
       "                1/22/20  1/23/20  1/24/20  1/25/20  1/26/20  1/27/20  1/28/20  \\\n",
       "Country/Region                                                                  \n",
       "Afghanistan           0        0        0        0        0        0        0   \n",
       "Albania               0        0        0        0        0        0        0   \n",
       "Algeria               0        0        0        0        0        0        0   \n",
       "Andorra               0        0        0        0        0        0        0   \n",
       "Angola                0        0        0        0        0        0        0   \n",
       "\n",
       "                1/29/20  1/30/20  1/31/20  ...  4/16/21  4/17/21  4/18/21  \\\n",
       "Country/Region                             ...                              \n",
       "Afghanistan           0        0        0  ...    52105    52116    52168   \n",
       "Albania               0        0        0  ...   100600   101142   101584   \n",
       "Algeria               0        0        0  ...    83169    83286    83397   \n",
       "Andorra               0        0        0  ...    12105    12159    12203   \n",
       "Angola                0        0        0  ...    22203    22576    22597   \n",
       "\n",
       "                4/19/21  4/20/21  4/21/21  4/22/21  4/23/21  4/24/21  4/25/21  \n",
       "Country/Region                                                                 \n",
       "Afghanistan       52244    52272    52301    52348    52363    52392    52489  \n",
       "Albania          102171   102601   103066   103582   104278   105016   105728  \n",
       "Algeria           83514    83636    83765    83900    84038    84167    84299  \n",
       "Andorra           12203    12285    12334    12375    12423    12458    12491  \n",
       "Angola            22600    22647    22882    22901    23089    23092    23092  \n",
       "\n",
       "[5 rows x 460 columns]"
      ]
     },
     "execution_count": 11,
     "metadata": {},
     "output_type": "execute_result"
    }
   ],
   "source": [
    "covid19_recuperados = covid19_recuperados.groupby(by=covid19_recuperados.index)[covid19_recuperados.columns].sum()\n",
    "covid19_recuperados.head()"
   ]
  },
  {
   "cell_type": "code",
   "execution_count": 12,
   "metadata": {},
   "outputs": [
    {
     "data": {
      "text/html": [
       "<div>\n",
       "<style scoped>\n",
       "    .dataframe tbody tr th:only-of-type {\n",
       "        vertical-align: middle;\n",
       "    }\n",
       "\n",
       "    .dataframe tbody tr th {\n",
       "        vertical-align: top;\n",
       "    }\n",
       "\n",
       "    .dataframe thead th {\n",
       "        text-align: right;\n",
       "    }\n",
       "</style>\n",
       "<table border=\"1\" class=\"dataframe\">\n",
       "  <thead>\n",
       "    <tr style=\"text-align: right;\">\n",
       "      <th></th>\n",
       "      <th>1/22/20</th>\n",
       "      <th>1/23/20</th>\n",
       "      <th>1/24/20</th>\n",
       "      <th>1/25/20</th>\n",
       "      <th>1/26/20</th>\n",
       "      <th>1/27/20</th>\n",
       "      <th>1/28/20</th>\n",
       "      <th>1/29/20</th>\n",
       "      <th>1/30/20</th>\n",
       "      <th>1/31/20</th>\n",
       "      <th>...</th>\n",
       "      <th>4/17/21</th>\n",
       "      <th>4/18/21</th>\n",
       "      <th>4/19/21</th>\n",
       "      <th>4/20/21</th>\n",
       "      <th>4/21/21</th>\n",
       "      <th>4/22/21</th>\n",
       "      <th>4/23/21</th>\n",
       "      <th>4/24/21</th>\n",
       "      <th>4/25/21</th>\n",
       "      <th>Population (2020)</th>\n",
       "    </tr>\n",
       "  </thead>\n",
       "  <tbody>\n",
       "    <tr>\n",
       "      <th>Afghanistan</th>\n",
       "      <td>0</td>\n",
       "      <td>0</td>\n",
       "      <td>0</td>\n",
       "      <td>0</td>\n",
       "      <td>0</td>\n",
       "      <td>0</td>\n",
       "      <td>0</td>\n",
       "      <td>0</td>\n",
       "      <td>0</td>\n",
       "      <td>0</td>\n",
       "      <td>...</td>\n",
       "      <td>52116</td>\n",
       "      <td>52168</td>\n",
       "      <td>52244</td>\n",
       "      <td>52272</td>\n",
       "      <td>52301</td>\n",
       "      <td>52348</td>\n",
       "      <td>52363</td>\n",
       "      <td>52392</td>\n",
       "      <td>52489</td>\n",
       "      <td>39074280</td>\n",
       "    </tr>\n",
       "    <tr>\n",
       "      <th>Albania</th>\n",
       "      <td>0</td>\n",
       "      <td>0</td>\n",
       "      <td>0</td>\n",
       "      <td>0</td>\n",
       "      <td>0</td>\n",
       "      <td>0</td>\n",
       "      <td>0</td>\n",
       "      <td>0</td>\n",
       "      <td>0</td>\n",
       "      <td>0</td>\n",
       "      <td>...</td>\n",
       "      <td>101142</td>\n",
       "      <td>101584</td>\n",
       "      <td>102171</td>\n",
       "      <td>102601</td>\n",
       "      <td>103066</td>\n",
       "      <td>103582</td>\n",
       "      <td>104278</td>\n",
       "      <td>105016</td>\n",
       "      <td>105728</td>\n",
       "      <td>2877239</td>\n",
       "    </tr>\n",
       "    <tr>\n",
       "      <th>Algeria</th>\n",
       "      <td>0</td>\n",
       "      <td>0</td>\n",
       "      <td>0</td>\n",
       "      <td>0</td>\n",
       "      <td>0</td>\n",
       "      <td>0</td>\n",
       "      <td>0</td>\n",
       "      <td>0</td>\n",
       "      <td>0</td>\n",
       "      <td>0</td>\n",
       "      <td>...</td>\n",
       "      <td>83286</td>\n",
       "      <td>83397</td>\n",
       "      <td>83514</td>\n",
       "      <td>83636</td>\n",
       "      <td>83765</td>\n",
       "      <td>83900</td>\n",
       "      <td>84038</td>\n",
       "      <td>84167</td>\n",
       "      <td>84299</td>\n",
       "      <td>43984569</td>\n",
       "    </tr>\n",
       "    <tr>\n",
       "      <th>Andorra</th>\n",
       "      <td>0</td>\n",
       "      <td>0</td>\n",
       "      <td>0</td>\n",
       "      <td>0</td>\n",
       "      <td>0</td>\n",
       "      <td>0</td>\n",
       "      <td>0</td>\n",
       "      <td>0</td>\n",
       "      <td>0</td>\n",
       "      <td>0</td>\n",
       "      <td>...</td>\n",
       "      <td>12159</td>\n",
       "      <td>12203</td>\n",
       "      <td>12203</td>\n",
       "      <td>12285</td>\n",
       "      <td>12334</td>\n",
       "      <td>12375</td>\n",
       "      <td>12423</td>\n",
       "      <td>12458</td>\n",
       "      <td>12491</td>\n",
       "      <td>77287</td>\n",
       "    </tr>\n",
       "    <tr>\n",
       "      <th>Angola</th>\n",
       "      <td>0</td>\n",
       "      <td>0</td>\n",
       "      <td>0</td>\n",
       "      <td>0</td>\n",
       "      <td>0</td>\n",
       "      <td>0</td>\n",
       "      <td>0</td>\n",
       "      <td>0</td>\n",
       "      <td>0</td>\n",
       "      <td>0</td>\n",
       "      <td>...</td>\n",
       "      <td>22576</td>\n",
       "      <td>22597</td>\n",
       "      <td>22600</td>\n",
       "      <td>22647</td>\n",
       "      <td>22882</td>\n",
       "      <td>22901</td>\n",
       "      <td>23089</td>\n",
       "      <td>23092</td>\n",
       "      <td>23092</td>\n",
       "      <td>33032075</td>\n",
       "    </tr>\n",
       "    <tr>\n",
       "      <th>Antigua and Barbuda</th>\n",
       "      <td>0</td>\n",
       "      <td>0</td>\n",
       "      <td>0</td>\n",
       "      <td>0</td>\n",
       "      <td>0</td>\n",
       "      <td>0</td>\n",
       "      <td>0</td>\n",
       "      <td>0</td>\n",
       "      <td>0</td>\n",
       "      <td>0</td>\n",
       "      <td>...</td>\n",
       "      <td>986</td>\n",
       "      <td>986</td>\n",
       "      <td>995</td>\n",
       "      <td>995</td>\n",
       "      <td>995</td>\n",
       "      <td>995</td>\n",
       "      <td>995</td>\n",
       "      <td>1002</td>\n",
       "      <td>1002</td>\n",
       "      <td>98069</td>\n",
       "    </tr>\n",
       "    <tr>\n",
       "      <th>Argentina</th>\n",
       "      <td>0</td>\n",
       "      <td>0</td>\n",
       "      <td>0</td>\n",
       "      <td>0</td>\n",
       "      <td>0</td>\n",
       "      <td>0</td>\n",
       "      <td>0</td>\n",
       "      <td>0</td>\n",
       "      <td>0</td>\n",
       "      <td>0</td>\n",
       "      <td>...</td>\n",
       "      <td>2343808</td>\n",
       "      <td>2364171</td>\n",
       "      <td>2386383</td>\n",
       "      <td>2407853</td>\n",
       "      <td>2424675</td>\n",
       "      <td>2449793</td>\n",
       "      <td>2474514</td>\n",
       "      <td>2496277</td>\n",
       "      <td>2518167</td>\n",
       "      <td>45267449</td>\n",
       "    </tr>\n",
       "    <tr>\n",
       "      <th>Armenia</th>\n",
       "      <td>0</td>\n",
       "      <td>0</td>\n",
       "      <td>0</td>\n",
       "      <td>0</td>\n",
       "      <td>0</td>\n",
       "      <td>0</td>\n",
       "      <td>0</td>\n",
       "      <td>0</td>\n",
       "      <td>0</td>\n",
       "      <td>0</td>\n",
       "      <td>...</td>\n",
       "      <td>187256</td>\n",
       "      <td>187466</td>\n",
       "      <td>189017</td>\n",
       "      <td>189688</td>\n",
       "      <td>190271</td>\n",
       "      <td>191158</td>\n",
       "      <td>192281</td>\n",
       "      <td>193360</td>\n",
       "      <td>194080</td>\n",
       "      <td>2964219</td>\n",
       "    </tr>\n",
       "    <tr>\n",
       "      <th>Australia</th>\n",
       "      <td>0</td>\n",
       "      <td>0</td>\n",
       "      <td>0</td>\n",
       "      <td>0</td>\n",
       "      <td>0</td>\n",
       "      <td>0</td>\n",
       "      <td>0</td>\n",
       "      <td>0</td>\n",
       "      <td>2</td>\n",
       "      <td>2</td>\n",
       "      <td>...</td>\n",
       "      <td>23158</td>\n",
       "      <td>23160</td>\n",
       "      <td>23173</td>\n",
       "      <td>23177</td>\n",
       "      <td>23181</td>\n",
       "      <td>23183</td>\n",
       "      <td>23191</td>\n",
       "      <td>23195</td>\n",
       "      <td>23209</td>\n",
       "      <td>25550683</td>\n",
       "    </tr>\n",
       "    <tr>\n",
       "      <th>Austria</th>\n",
       "      <td>0</td>\n",
       "      <td>0</td>\n",
       "      <td>0</td>\n",
       "      <td>0</td>\n",
       "      <td>0</td>\n",
       "      <td>0</td>\n",
       "      <td>0</td>\n",
       "      <td>0</td>\n",
       "      <td>0</td>\n",
       "      <td>0</td>\n",
       "      <td>...</td>\n",
       "      <td>552619</td>\n",
       "      <td>555218</td>\n",
       "      <td>557467</td>\n",
       "      <td>560492</td>\n",
       "      <td>563256</td>\n",
       "      <td>565513</td>\n",
       "      <td>568213</td>\n",
       "      <td>570684</td>\n",
       "      <td>573155</td>\n",
       "      <td>9015361</td>\n",
       "    </tr>\n",
       "  </tbody>\n",
       "</table>\n",
       "<p>10 rows × 461 columns</p>\n",
       "</div>"
      ],
      "text/plain": [
       "                     1/22/20  1/23/20  1/24/20  1/25/20  1/26/20  1/27/20  \\\n",
       "Afghanistan                0        0        0        0        0        0   \n",
       "Albania                    0        0        0        0        0        0   \n",
       "Algeria                    0        0        0        0        0        0   \n",
       "Andorra                    0        0        0        0        0        0   \n",
       "Angola                     0        0        0        0        0        0   \n",
       "Antigua and Barbuda        0        0        0        0        0        0   \n",
       "Argentina                  0        0        0        0        0        0   \n",
       "Armenia                    0        0        0        0        0        0   \n",
       "Australia                  0        0        0        0        0        0   \n",
       "Austria                    0        0        0        0        0        0   \n",
       "\n",
       "                     1/28/20  1/29/20  1/30/20  1/31/20  ...  4/17/21  \\\n",
       "Afghanistan                0        0        0        0  ...    52116   \n",
       "Albania                    0        0        0        0  ...   101142   \n",
       "Algeria                    0        0        0        0  ...    83286   \n",
       "Andorra                    0        0        0        0  ...    12159   \n",
       "Angola                     0        0        0        0  ...    22576   \n",
       "Antigua and Barbuda        0        0        0        0  ...      986   \n",
       "Argentina                  0        0        0        0  ...  2343808   \n",
       "Armenia                    0        0        0        0  ...   187256   \n",
       "Australia                  0        0        2        2  ...    23158   \n",
       "Austria                    0        0        0        0  ...   552619   \n",
       "\n",
       "                     4/18/21  4/19/21  4/20/21  4/21/21  4/22/21  4/23/21  \\\n",
       "Afghanistan            52168    52244    52272    52301    52348    52363   \n",
       "Albania               101584   102171   102601   103066   103582   104278   \n",
       "Algeria                83397    83514    83636    83765    83900    84038   \n",
       "Andorra                12203    12203    12285    12334    12375    12423   \n",
       "Angola                 22597    22600    22647    22882    22901    23089   \n",
       "Antigua and Barbuda      986      995      995      995      995      995   \n",
       "Argentina            2364171  2386383  2407853  2424675  2449793  2474514   \n",
       "Armenia               187466   189017   189688   190271   191158   192281   \n",
       "Australia              23160    23173    23177    23181    23183    23191   \n",
       "Austria               555218   557467   560492   563256   565513   568213   \n",
       "\n",
       "                     4/24/21  4/25/21  Population (2020)  \n",
       "Afghanistan            52392    52489           39074280  \n",
       "Albania               105016   105728            2877239  \n",
       "Algeria                84167    84299           43984569  \n",
       "Andorra                12458    12491              77287  \n",
       "Angola                 23092    23092           33032075  \n",
       "Antigua and Barbuda     1002     1002              98069  \n",
       "Argentina            2496277  2518167           45267449  \n",
       "Armenia               193360   194080            2964219  \n",
       "Australia              23195    23209           25550683  \n",
       "Austria               570684   573155            9015361  \n",
       "\n",
       "[10 rows x 461 columns]"
      ]
     },
     "execution_count": 12,
     "metadata": {},
     "output_type": "execute_result"
    }
   ],
   "source": [
    "recuperados_mundial = pd.merge(covid19_recuperados, mundiales, how = 'inner', left_index = True, right_index = True)\n",
    "recuperados_mundial.head(10)"
   ]
  },
  {
   "cell_type": "code",
   "execution_count": 13,
   "metadata": {},
   "outputs": [
    {
     "data": {
      "text/html": [
       "<div>\n",
       "<style scoped>\n",
       "    .dataframe tbody tr th:only-of-type {\n",
       "        vertical-align: middle;\n",
       "    }\n",
       "\n",
       "    .dataframe tbody tr th {\n",
       "        vertical-align: top;\n",
       "    }\n",
       "\n",
       "    .dataframe thead th {\n",
       "        text-align: right;\n",
       "    }\n",
       "</style>\n",
       "<table border=\"1\" class=\"dataframe\">\n",
       "  <thead>\n",
       "    <tr style=\"text-align: right;\">\n",
       "      <th></th>\n",
       "      <th>1/22/20</th>\n",
       "      <th>1/23/20</th>\n",
       "      <th>1/24/20</th>\n",
       "      <th>1/25/20</th>\n",
       "      <th>1/26/20</th>\n",
       "      <th>1/27/20</th>\n",
       "      <th>1/28/20</th>\n",
       "      <th>1/29/20</th>\n",
       "      <th>1/30/20</th>\n",
       "      <th>1/31/20</th>\n",
       "      <th>...</th>\n",
       "      <th>4/17/21</th>\n",
       "      <th>4/18/21</th>\n",
       "      <th>4/19/21</th>\n",
       "      <th>4/20/21</th>\n",
       "      <th>4/21/21</th>\n",
       "      <th>4/22/21</th>\n",
       "      <th>4/23/21</th>\n",
       "      <th>4/24/21</th>\n",
       "      <th>4/25/21</th>\n",
       "      <th>Population (2020)</th>\n",
       "    </tr>\n",
       "  </thead>\n",
       "  <tbody>\n",
       "  </tbody>\n",
       "</table>\n",
       "<p>0 rows × 461 columns</p>\n",
       "</div>"
      ],
      "text/plain": [
       "Empty DataFrame\n",
       "Columns: [1/22/20, 1/23/20, 1/24/20, 1/25/20, 1/26/20, 1/27/20, 1/28/20, 1/29/20, 1/30/20, 1/31/20, 2/1/20, 2/2/20, 2/3/20, 2/4/20, 2/5/20, 2/6/20, 2/7/20, 2/8/20, 2/9/20, 2/10/20, 2/11/20, 2/12/20, 2/13/20, 2/14/20, 2/15/20, 2/16/20, 2/17/20, 2/18/20, 2/19/20, 2/20/20, 2/21/20, 2/22/20, 2/23/20, 2/24/20, 2/25/20, 2/26/20, 2/27/20, 2/28/20, 2/29/20, 3/1/20, 3/2/20, 3/3/20, 3/4/20, 3/5/20, 3/6/20, 3/7/20, 3/8/20, 3/9/20, 3/10/20, 3/11/20, 3/12/20, 3/13/20, 3/14/20, 3/15/20, 3/16/20, 3/17/20, 3/18/20, 3/19/20, 3/20/20, 3/21/20, 3/22/20, 3/23/20, 3/24/20, 3/25/20, 3/26/20, 3/27/20, 3/28/20, 3/29/20, 3/30/20, 3/31/20, 4/1/20, 4/2/20, 4/3/20, 4/4/20, 4/5/20, 4/6/20, 4/7/20, 4/8/20, 4/9/20, 4/10/20, 4/11/20, 4/12/20, 4/13/20, 4/14/20, 4/15/20, 4/16/20, 4/17/20, 4/18/20, 4/19/20, 4/20/20, 4/21/20, 4/22/20, 4/23/20, 4/24/20, 4/25/20, 4/26/20, 4/27/20, 4/28/20, 4/29/20, 4/30/20, ...]\n",
       "Index: []\n",
       "\n",
       "[0 rows x 461 columns]"
      ]
     },
     "execution_count": 13,
     "metadata": {},
     "output_type": "execute_result"
    }
   ],
   "source": [
    "nan_values = recuperados_mundial[recuperados_mundial.isna().any(axis=1)]\n",
    "nan_values"
   ]
  },
  {
   "cell_type": "markdown",
   "metadata": {},
   "source": [
    "### covid19_decesos.csv"
   ]
  },
  {
   "cell_type": "code",
   "execution_count": 14,
   "metadata": {},
   "outputs": [],
   "source": [
    "covid19_decesos = pd.read_csv(\"data/covid19_decesos.csv\",index_col='Country/Region', parse_dates=True, infer_datetime_format=True)"
   ]
  },
  {
   "cell_type": "code",
   "execution_count": 15,
   "metadata": {},
   "outputs": [],
   "source": [
    "covid19_decesos.drop(labels = [\"Lat\",\"Long\"], axis=1, inplace =True)"
   ]
  },
  {
   "cell_type": "code",
   "execution_count": 16,
   "metadata": {},
   "outputs": [
    {
     "data": {
      "text/html": [
       "<div>\n",
       "<style scoped>\n",
       "    .dataframe tbody tr th:only-of-type {\n",
       "        vertical-align: middle;\n",
       "    }\n",
       "\n",
       "    .dataframe tbody tr th {\n",
       "        vertical-align: top;\n",
       "    }\n",
       "\n",
       "    .dataframe thead th {\n",
       "        text-align: right;\n",
       "    }\n",
       "</style>\n",
       "<table border=\"1\" class=\"dataframe\">\n",
       "  <thead>\n",
       "    <tr style=\"text-align: right;\">\n",
       "      <th></th>\n",
       "      <th>1/22/20</th>\n",
       "      <th>1/23/20</th>\n",
       "      <th>1/24/20</th>\n",
       "      <th>1/25/20</th>\n",
       "      <th>1/26/20</th>\n",
       "      <th>1/27/20</th>\n",
       "      <th>1/28/20</th>\n",
       "      <th>1/29/20</th>\n",
       "      <th>1/30/20</th>\n",
       "      <th>1/31/20</th>\n",
       "      <th>...</th>\n",
       "      <th>4/16/21</th>\n",
       "      <th>4/17/21</th>\n",
       "      <th>4/18/21</th>\n",
       "      <th>4/19/21</th>\n",
       "      <th>4/20/21</th>\n",
       "      <th>4/21/21</th>\n",
       "      <th>4/22/21</th>\n",
       "      <th>4/23/21</th>\n",
       "      <th>4/24/21</th>\n",
       "      <th>4/25/21</th>\n",
       "    </tr>\n",
       "    <tr>\n",
       "      <th>Country/Region</th>\n",
       "      <th></th>\n",
       "      <th></th>\n",
       "      <th></th>\n",
       "      <th></th>\n",
       "      <th></th>\n",
       "      <th></th>\n",
       "      <th></th>\n",
       "      <th></th>\n",
       "      <th></th>\n",
       "      <th></th>\n",
       "      <th></th>\n",
       "      <th></th>\n",
       "      <th></th>\n",
       "      <th></th>\n",
       "      <th></th>\n",
       "      <th></th>\n",
       "      <th></th>\n",
       "      <th></th>\n",
       "      <th></th>\n",
       "      <th></th>\n",
       "      <th></th>\n",
       "    </tr>\n",
       "  </thead>\n",
       "  <tbody>\n",
       "    <tr>\n",
       "      <th>Afghanistan</th>\n",
       "      <td>0</td>\n",
       "      <td>0</td>\n",
       "      <td>0</td>\n",
       "      <td>0</td>\n",
       "      <td>0</td>\n",
       "      <td>0</td>\n",
       "      <td>0</td>\n",
       "      <td>0</td>\n",
       "      <td>0</td>\n",
       "      <td>0</td>\n",
       "      <td>...</td>\n",
       "      <td>2535</td>\n",
       "      <td>2539</td>\n",
       "      <td>2539</td>\n",
       "      <td>2546</td>\n",
       "      <td>2549</td>\n",
       "      <td>2557</td>\n",
       "      <td>2561</td>\n",
       "      <td>2565</td>\n",
       "      <td>2572</td>\n",
       "      <td>2582</td>\n",
       "    </tr>\n",
       "    <tr>\n",
       "      <th>Albania</th>\n",
       "      <td>0</td>\n",
       "      <td>0</td>\n",
       "      <td>0</td>\n",
       "      <td>0</td>\n",
       "      <td>0</td>\n",
       "      <td>0</td>\n",
       "      <td>0</td>\n",
       "      <td>0</td>\n",
       "      <td>0</td>\n",
       "      <td>0</td>\n",
       "      <td>...</td>\n",
       "      <td>2337</td>\n",
       "      <td>2340</td>\n",
       "      <td>2342</td>\n",
       "      <td>2347</td>\n",
       "      <td>2353</td>\n",
       "      <td>2358</td>\n",
       "      <td>2364</td>\n",
       "      <td>2367</td>\n",
       "      <td>2372</td>\n",
       "      <td>2378</td>\n",
       "    </tr>\n",
       "    <tr>\n",
       "      <th>Algeria</th>\n",
       "      <td>0</td>\n",
       "      <td>0</td>\n",
       "      <td>0</td>\n",
       "      <td>0</td>\n",
       "      <td>0</td>\n",
       "      <td>0</td>\n",
       "      <td>0</td>\n",
       "      <td>0</td>\n",
       "      <td>0</td>\n",
       "      <td>0</td>\n",
       "      <td>...</td>\n",
       "      <td>3148</td>\n",
       "      <td>3152</td>\n",
       "      <td>3155</td>\n",
       "      <td>3160</td>\n",
       "      <td>3165</td>\n",
       "      <td>3172</td>\n",
       "      <td>3181</td>\n",
       "      <td>3190</td>\n",
       "      <td>3198</td>\n",
       "      <td>3207</td>\n",
       "    </tr>\n",
       "    <tr>\n",
       "      <th>Andorra</th>\n",
       "      <td>0</td>\n",
       "      <td>0</td>\n",
       "      <td>0</td>\n",
       "      <td>0</td>\n",
       "      <td>0</td>\n",
       "      <td>0</td>\n",
       "      <td>0</td>\n",
       "      <td>0</td>\n",
       "      <td>0</td>\n",
       "      <td>0</td>\n",
       "      <td>...</td>\n",
       "      <td>123</td>\n",
       "      <td>123</td>\n",
       "      <td>123</td>\n",
       "      <td>123</td>\n",
       "      <td>123</td>\n",
       "      <td>123</td>\n",
       "      <td>123</td>\n",
       "      <td>123</td>\n",
       "      <td>124</td>\n",
       "      <td>124</td>\n",
       "    </tr>\n",
       "    <tr>\n",
       "      <th>Angola</th>\n",
       "      <td>0</td>\n",
       "      <td>0</td>\n",
       "      <td>0</td>\n",
       "      <td>0</td>\n",
       "      <td>0</td>\n",
       "      <td>0</td>\n",
       "      <td>0</td>\n",
       "      <td>0</td>\n",
       "      <td>0</td>\n",
       "      <td>0</td>\n",
       "      <td>...</td>\n",
       "      <td>560</td>\n",
       "      <td>561</td>\n",
       "      <td>561</td>\n",
       "      <td>563</td>\n",
       "      <td>565</td>\n",
       "      <td>570</td>\n",
       "      <td>572</td>\n",
       "      <td>574</td>\n",
       "      <td>577</td>\n",
       "      <td>579</td>\n",
       "    </tr>\n",
       "  </tbody>\n",
       "</table>\n",
       "<p>5 rows × 460 columns</p>\n",
       "</div>"
      ],
      "text/plain": [
       "                1/22/20  1/23/20  1/24/20  1/25/20  1/26/20  1/27/20  1/28/20  \\\n",
       "Country/Region                                                                  \n",
       "Afghanistan           0        0        0        0        0        0        0   \n",
       "Albania               0        0        0        0        0        0        0   \n",
       "Algeria               0        0        0        0        0        0        0   \n",
       "Andorra               0        0        0        0        0        0        0   \n",
       "Angola                0        0        0        0        0        0        0   \n",
       "\n",
       "                1/29/20  1/30/20  1/31/20  ...  4/16/21  4/17/21  4/18/21  \\\n",
       "Country/Region                             ...                              \n",
       "Afghanistan           0        0        0  ...     2535     2539     2539   \n",
       "Albania               0        0        0  ...     2337     2340     2342   \n",
       "Algeria               0        0        0  ...     3148     3152     3155   \n",
       "Andorra               0        0        0  ...      123      123      123   \n",
       "Angola                0        0        0  ...      560      561      561   \n",
       "\n",
       "                4/19/21  4/20/21  4/21/21  4/22/21  4/23/21  4/24/21  4/25/21  \n",
       "Country/Region                                                                 \n",
       "Afghanistan        2546     2549     2557     2561     2565     2572     2582  \n",
       "Albania            2347     2353     2358     2364     2367     2372     2378  \n",
       "Algeria            3160     3165     3172     3181     3190     3198     3207  \n",
       "Andorra             123      123      123      123      123      124      124  \n",
       "Angola              563      565      570      572      574      577      579  \n",
       "\n",
       "[5 rows x 460 columns]"
      ]
     },
     "execution_count": 16,
     "metadata": {},
     "output_type": "execute_result"
    }
   ],
   "source": [
    "covid19_decesos = covid19_decesos.groupby(by=covid19_decesos.index)[covid19_decesos.columns].sum()\n",
    "covid19_decesos.head()"
   ]
  },
  {
   "cell_type": "code",
   "execution_count": 17,
   "metadata": {},
   "outputs": [
    {
     "data": {
      "text/html": [
       "<div>\n",
       "<style scoped>\n",
       "    .dataframe tbody tr th:only-of-type {\n",
       "        vertical-align: middle;\n",
       "    }\n",
       "\n",
       "    .dataframe tbody tr th {\n",
       "        vertical-align: top;\n",
       "    }\n",
       "\n",
       "    .dataframe thead th {\n",
       "        text-align: right;\n",
       "    }\n",
       "</style>\n",
       "<table border=\"1\" class=\"dataframe\">\n",
       "  <thead>\n",
       "    <tr style=\"text-align: right;\">\n",
       "      <th></th>\n",
       "      <th>1/22/20</th>\n",
       "      <th>1/23/20</th>\n",
       "      <th>1/24/20</th>\n",
       "      <th>1/25/20</th>\n",
       "      <th>1/26/20</th>\n",
       "      <th>1/27/20</th>\n",
       "      <th>1/28/20</th>\n",
       "      <th>1/29/20</th>\n",
       "      <th>1/30/20</th>\n",
       "      <th>1/31/20</th>\n",
       "      <th>...</th>\n",
       "      <th>4/17/21</th>\n",
       "      <th>4/18/21</th>\n",
       "      <th>4/19/21</th>\n",
       "      <th>4/20/21</th>\n",
       "      <th>4/21/21</th>\n",
       "      <th>4/22/21</th>\n",
       "      <th>4/23/21</th>\n",
       "      <th>4/24/21</th>\n",
       "      <th>4/25/21</th>\n",
       "      <th>Population (2020)</th>\n",
       "    </tr>\n",
       "  </thead>\n",
       "  <tbody>\n",
       "    <tr>\n",
       "      <th>Afghanistan</th>\n",
       "      <td>0</td>\n",
       "      <td>0</td>\n",
       "      <td>0</td>\n",
       "      <td>0</td>\n",
       "      <td>0</td>\n",
       "      <td>0</td>\n",
       "      <td>0</td>\n",
       "      <td>0</td>\n",
       "      <td>0</td>\n",
       "      <td>0</td>\n",
       "      <td>...</td>\n",
       "      <td>2539</td>\n",
       "      <td>2539</td>\n",
       "      <td>2546</td>\n",
       "      <td>2549</td>\n",
       "      <td>2557</td>\n",
       "      <td>2561</td>\n",
       "      <td>2565</td>\n",
       "      <td>2572</td>\n",
       "      <td>2582</td>\n",
       "      <td>39074280</td>\n",
       "    </tr>\n",
       "    <tr>\n",
       "      <th>Albania</th>\n",
       "      <td>0</td>\n",
       "      <td>0</td>\n",
       "      <td>0</td>\n",
       "      <td>0</td>\n",
       "      <td>0</td>\n",
       "      <td>0</td>\n",
       "      <td>0</td>\n",
       "      <td>0</td>\n",
       "      <td>0</td>\n",
       "      <td>0</td>\n",
       "      <td>...</td>\n",
       "      <td>2340</td>\n",
       "      <td>2342</td>\n",
       "      <td>2347</td>\n",
       "      <td>2353</td>\n",
       "      <td>2358</td>\n",
       "      <td>2364</td>\n",
       "      <td>2367</td>\n",
       "      <td>2372</td>\n",
       "      <td>2378</td>\n",
       "      <td>2877239</td>\n",
       "    </tr>\n",
       "    <tr>\n",
       "      <th>Algeria</th>\n",
       "      <td>0</td>\n",
       "      <td>0</td>\n",
       "      <td>0</td>\n",
       "      <td>0</td>\n",
       "      <td>0</td>\n",
       "      <td>0</td>\n",
       "      <td>0</td>\n",
       "      <td>0</td>\n",
       "      <td>0</td>\n",
       "      <td>0</td>\n",
       "      <td>...</td>\n",
       "      <td>3152</td>\n",
       "      <td>3155</td>\n",
       "      <td>3160</td>\n",
       "      <td>3165</td>\n",
       "      <td>3172</td>\n",
       "      <td>3181</td>\n",
       "      <td>3190</td>\n",
       "      <td>3198</td>\n",
       "      <td>3207</td>\n",
       "      <td>43984569</td>\n",
       "    </tr>\n",
       "    <tr>\n",
       "      <th>Andorra</th>\n",
       "      <td>0</td>\n",
       "      <td>0</td>\n",
       "      <td>0</td>\n",
       "      <td>0</td>\n",
       "      <td>0</td>\n",
       "      <td>0</td>\n",
       "      <td>0</td>\n",
       "      <td>0</td>\n",
       "      <td>0</td>\n",
       "      <td>0</td>\n",
       "      <td>...</td>\n",
       "      <td>123</td>\n",
       "      <td>123</td>\n",
       "      <td>123</td>\n",
       "      <td>123</td>\n",
       "      <td>123</td>\n",
       "      <td>123</td>\n",
       "      <td>123</td>\n",
       "      <td>124</td>\n",
       "      <td>124</td>\n",
       "      <td>77287</td>\n",
       "    </tr>\n",
       "    <tr>\n",
       "      <th>Angola</th>\n",
       "      <td>0</td>\n",
       "      <td>0</td>\n",
       "      <td>0</td>\n",
       "      <td>0</td>\n",
       "      <td>0</td>\n",
       "      <td>0</td>\n",
       "      <td>0</td>\n",
       "      <td>0</td>\n",
       "      <td>0</td>\n",
       "      <td>0</td>\n",
       "      <td>...</td>\n",
       "      <td>561</td>\n",
       "      <td>561</td>\n",
       "      <td>563</td>\n",
       "      <td>565</td>\n",
       "      <td>570</td>\n",
       "      <td>572</td>\n",
       "      <td>574</td>\n",
       "      <td>577</td>\n",
       "      <td>579</td>\n",
       "      <td>33032075</td>\n",
       "    </tr>\n",
       "    <tr>\n",
       "      <th>Antigua and Barbuda</th>\n",
       "      <td>0</td>\n",
       "      <td>0</td>\n",
       "      <td>0</td>\n",
       "      <td>0</td>\n",
       "      <td>0</td>\n",
       "      <td>0</td>\n",
       "      <td>0</td>\n",
       "      <td>0</td>\n",
       "      <td>0</td>\n",
       "      <td>0</td>\n",
       "      <td>...</td>\n",
       "      <td>31</td>\n",
       "      <td>31</td>\n",
       "      <td>31</td>\n",
       "      <td>31</td>\n",
       "      <td>31</td>\n",
       "      <td>31</td>\n",
       "      <td>31</td>\n",
       "      <td>31</td>\n",
       "      <td>31</td>\n",
       "      <td>98069</td>\n",
       "    </tr>\n",
       "    <tr>\n",
       "      <th>Argentina</th>\n",
       "      <td>0</td>\n",
       "      <td>0</td>\n",
       "      <td>0</td>\n",
       "      <td>0</td>\n",
       "      <td>0</td>\n",
       "      <td>0</td>\n",
       "      <td>0</td>\n",
       "      <td>0</td>\n",
       "      <td>0</td>\n",
       "      <td>0</td>\n",
       "      <td>...</td>\n",
       "      <td>59164</td>\n",
       "      <td>59228</td>\n",
       "      <td>59476</td>\n",
       "      <td>59792</td>\n",
       "      <td>60083</td>\n",
       "      <td>60620</td>\n",
       "      <td>61176</td>\n",
       "      <td>61474</td>\n",
       "      <td>61644</td>\n",
       "      <td>45267449</td>\n",
       "    </tr>\n",
       "    <tr>\n",
       "      <th>Armenia</th>\n",
       "      <td>0</td>\n",
       "      <td>0</td>\n",
       "      <td>0</td>\n",
       "      <td>0</td>\n",
       "      <td>0</td>\n",
       "      <td>0</td>\n",
       "      <td>0</td>\n",
       "      <td>0</td>\n",
       "      <td>0</td>\n",
       "      <td>0</td>\n",
       "      <td>...</td>\n",
       "      <td>3859</td>\n",
       "      <td>3878</td>\n",
       "      <td>3895</td>\n",
       "      <td>3919</td>\n",
       "      <td>3944</td>\n",
       "      <td>3969</td>\n",
       "      <td>3984</td>\n",
       "      <td>4001</td>\n",
       "      <td>4018</td>\n",
       "      <td>2964219</td>\n",
       "    </tr>\n",
       "    <tr>\n",
       "      <th>Australia</th>\n",
       "      <td>0</td>\n",
       "      <td>0</td>\n",
       "      <td>0</td>\n",
       "      <td>0</td>\n",
       "      <td>0</td>\n",
       "      <td>0</td>\n",
       "      <td>0</td>\n",
       "      <td>0</td>\n",
       "      <td>0</td>\n",
       "      <td>0</td>\n",
       "      <td>...</td>\n",
       "      <td>910</td>\n",
       "      <td>910</td>\n",
       "      <td>910</td>\n",
       "      <td>910</td>\n",
       "      <td>910</td>\n",
       "      <td>910</td>\n",
       "      <td>910</td>\n",
       "      <td>910</td>\n",
       "      <td>910</td>\n",
       "      <td>25550683</td>\n",
       "    </tr>\n",
       "    <tr>\n",
       "      <th>Austria</th>\n",
       "      <td>0</td>\n",
       "      <td>0</td>\n",
       "      <td>0</td>\n",
       "      <td>0</td>\n",
       "      <td>0</td>\n",
       "      <td>0</td>\n",
       "      <td>0</td>\n",
       "      <td>0</td>\n",
       "      <td>0</td>\n",
       "      <td>0</td>\n",
       "      <td>...</td>\n",
       "      <td>9870</td>\n",
       "      <td>9898</td>\n",
       "      <td>9922</td>\n",
       "      <td>9959</td>\n",
       "      <td>9997</td>\n",
       "      <td>10026</td>\n",
       "      <td>10055</td>\n",
       "      <td>10070</td>\n",
       "      <td>10087</td>\n",
       "      <td>9015361</td>\n",
       "    </tr>\n",
       "  </tbody>\n",
       "</table>\n",
       "<p>10 rows × 461 columns</p>\n",
       "</div>"
      ],
      "text/plain": [
       "                     1/22/20  1/23/20  1/24/20  1/25/20  1/26/20  1/27/20  \\\n",
       "Afghanistan                0        0        0        0        0        0   \n",
       "Albania                    0        0        0        0        0        0   \n",
       "Algeria                    0        0        0        0        0        0   \n",
       "Andorra                    0        0        0        0        0        0   \n",
       "Angola                     0        0        0        0        0        0   \n",
       "Antigua and Barbuda        0        0        0        0        0        0   \n",
       "Argentina                  0        0        0        0        0        0   \n",
       "Armenia                    0        0        0        0        0        0   \n",
       "Australia                  0        0        0        0        0        0   \n",
       "Austria                    0        0        0        0        0        0   \n",
       "\n",
       "                     1/28/20  1/29/20  1/30/20  1/31/20  ...  4/17/21  \\\n",
       "Afghanistan                0        0        0        0  ...     2539   \n",
       "Albania                    0        0        0        0  ...     2340   \n",
       "Algeria                    0        0        0        0  ...     3152   \n",
       "Andorra                    0        0        0        0  ...      123   \n",
       "Angola                     0        0        0        0  ...      561   \n",
       "Antigua and Barbuda        0        0        0        0  ...       31   \n",
       "Argentina                  0        0        0        0  ...    59164   \n",
       "Armenia                    0        0        0        0  ...     3859   \n",
       "Australia                  0        0        0        0  ...      910   \n",
       "Austria                    0        0        0        0  ...     9870   \n",
       "\n",
       "                     4/18/21  4/19/21  4/20/21  4/21/21  4/22/21  4/23/21  \\\n",
       "Afghanistan             2539     2546     2549     2557     2561     2565   \n",
       "Albania                 2342     2347     2353     2358     2364     2367   \n",
       "Algeria                 3155     3160     3165     3172     3181     3190   \n",
       "Andorra                  123      123      123      123      123      123   \n",
       "Angola                   561      563      565      570      572      574   \n",
       "Antigua and Barbuda       31       31       31       31       31       31   \n",
       "Argentina              59228    59476    59792    60083    60620    61176   \n",
       "Armenia                 3878     3895     3919     3944     3969     3984   \n",
       "Australia                910      910      910      910      910      910   \n",
       "Austria                 9898     9922     9959     9997    10026    10055   \n",
       "\n",
       "                     4/24/21  4/25/21  Population (2020)  \n",
       "Afghanistan             2572     2582           39074280  \n",
       "Albania                 2372     2378            2877239  \n",
       "Algeria                 3198     3207           43984569  \n",
       "Andorra                  124      124              77287  \n",
       "Angola                   577      579           33032075  \n",
       "Antigua and Barbuda       31       31              98069  \n",
       "Argentina              61474    61644           45267449  \n",
       "Armenia                 4001     4018            2964219  \n",
       "Australia                910      910           25550683  \n",
       "Austria                10070    10087            9015361  \n",
       "\n",
       "[10 rows x 461 columns]"
      ]
     },
     "execution_count": 17,
     "metadata": {},
     "output_type": "execute_result"
    }
   ],
   "source": [
    "decesos_mundial = pd.merge(covid19_decesos, mundiales, how = 'inner', left_index = True, right_index = True)\n",
    "decesos_mundial.head(10)"
   ]
  },
  {
   "cell_type": "code",
   "execution_count": 18,
   "metadata": {},
   "outputs": [
    {
     "data": {
      "text/html": [
       "<div>\n",
       "<style scoped>\n",
       "    .dataframe tbody tr th:only-of-type {\n",
       "        vertical-align: middle;\n",
       "    }\n",
       "\n",
       "    .dataframe tbody tr th {\n",
       "        vertical-align: top;\n",
       "    }\n",
       "\n",
       "    .dataframe thead th {\n",
       "        text-align: right;\n",
       "    }\n",
       "</style>\n",
       "<table border=\"1\" class=\"dataframe\">\n",
       "  <thead>\n",
       "    <tr style=\"text-align: right;\">\n",
       "      <th></th>\n",
       "      <th>1/22/20</th>\n",
       "      <th>1/23/20</th>\n",
       "      <th>1/24/20</th>\n",
       "      <th>1/25/20</th>\n",
       "      <th>1/26/20</th>\n",
       "      <th>1/27/20</th>\n",
       "      <th>1/28/20</th>\n",
       "      <th>1/29/20</th>\n",
       "      <th>1/30/20</th>\n",
       "      <th>1/31/20</th>\n",
       "      <th>...</th>\n",
       "      <th>4/17/21</th>\n",
       "      <th>4/18/21</th>\n",
       "      <th>4/19/21</th>\n",
       "      <th>4/20/21</th>\n",
       "      <th>4/21/21</th>\n",
       "      <th>4/22/21</th>\n",
       "      <th>4/23/21</th>\n",
       "      <th>4/24/21</th>\n",
       "      <th>4/25/21</th>\n",
       "      <th>Population (2020)</th>\n",
       "    </tr>\n",
       "  </thead>\n",
       "  <tbody>\n",
       "  </tbody>\n",
       "</table>\n",
       "<p>0 rows × 461 columns</p>\n",
       "</div>"
      ],
      "text/plain": [
       "Empty DataFrame\n",
       "Columns: [1/22/20, 1/23/20, 1/24/20, 1/25/20, 1/26/20, 1/27/20, 1/28/20, 1/29/20, 1/30/20, 1/31/20, 2/1/20, 2/2/20, 2/3/20, 2/4/20, 2/5/20, 2/6/20, 2/7/20, 2/8/20, 2/9/20, 2/10/20, 2/11/20, 2/12/20, 2/13/20, 2/14/20, 2/15/20, 2/16/20, 2/17/20, 2/18/20, 2/19/20, 2/20/20, 2/21/20, 2/22/20, 2/23/20, 2/24/20, 2/25/20, 2/26/20, 2/27/20, 2/28/20, 2/29/20, 3/1/20, 3/2/20, 3/3/20, 3/4/20, 3/5/20, 3/6/20, 3/7/20, 3/8/20, 3/9/20, 3/10/20, 3/11/20, 3/12/20, 3/13/20, 3/14/20, 3/15/20, 3/16/20, 3/17/20, 3/18/20, 3/19/20, 3/20/20, 3/21/20, 3/22/20, 3/23/20, 3/24/20, 3/25/20, 3/26/20, 3/27/20, 3/28/20, 3/29/20, 3/30/20, 3/31/20, 4/1/20, 4/2/20, 4/3/20, 4/4/20, 4/5/20, 4/6/20, 4/7/20, 4/8/20, 4/9/20, 4/10/20, 4/11/20, 4/12/20, 4/13/20, 4/14/20, 4/15/20, 4/16/20, 4/17/20, 4/18/20, 4/19/20, 4/20/20, 4/21/20, 4/22/20, 4/23/20, 4/24/20, 4/25/20, 4/26/20, 4/27/20, 4/28/20, 4/29/20, 4/30/20, ...]\n",
       "Index: []\n",
       "\n",
       "[0 rows x 461 columns]"
      ]
     },
     "execution_count": 18,
     "metadata": {},
     "output_type": "execute_result"
    }
   ],
   "source": [
    "nan_values = decesos_mundial[decesos_mundial.isna().any(axis=1)]\n",
    "nan_values"
   ]
  },
  {
   "cell_type": "markdown",
   "metadata": {},
   "source": [
    "## Análisis Global"
   ]
  },
  {
   "cell_type": "markdown",
   "metadata": {},
   "source": [
    "### Total de Casos a la Fecha a Nivel Mundial"
   ]
  },
  {
   "cell_type": "markdown",
   "metadata": {},
   "source": [
    "#### Casos Confirmados"
   ]
  },
  {
   "cell_type": "code",
   "execution_count": 19,
   "metadata": {},
   "outputs": [
    {
     "data": {
      "text/plain": [
       "146639797"
      ]
     },
     "execution_count": 19,
     "metadata": {},
     "output_type": "execute_result"
    }
   ],
   "source": [
    "total_confirmados = confirmados_mundial['4/25/21'].sum()\n",
    "total_confirmados"
   ]
  },
  {
   "cell_type": "markdown",
   "metadata": {},
   "source": [
    "#### Casos Recuperados"
   ]
  },
  {
   "cell_type": "code",
   "execution_count": 20,
   "metadata": {},
   "outputs": [
    {
     "data": {
      "text/plain": [
       "84382402"
      ]
     },
     "execution_count": 20,
     "metadata": {},
     "output_type": "execute_result"
    }
   ],
   "source": [
    "total_recuperados = recuperados_mundial['4/25/21'].sum()\n",
    "total_recuperados"
   ]
  },
  {
   "cell_type": "markdown",
   "metadata": {},
   "source": [
    "#### Decesos"
   ]
  },
  {
   "cell_type": "code",
   "execution_count": 21,
   "metadata": {},
   "outputs": [
    {
     "data": {
      "text/plain": [
       "3100569"
      ]
     },
     "execution_count": 21,
     "metadata": {},
     "output_type": "execute_result"
    }
   ],
   "source": [
    "total_decesos = decesos_mundial['4/25/21'].sum()\n",
    "total_decesos"
   ]
  },
  {
   "cell_type": "markdown",
   "metadata": {},
   "source": [
    "### Porcentajes a Nivel Mundial"
   ]
  },
  {
   "cell_type": "markdown",
   "metadata": {},
   "source": [
    "#### Casos activos respecto al total de confirmados"
   ]
  },
  {
   "cell_type": "code",
   "execution_count": 22,
   "metadata": {},
   "outputs": [
    {
     "data": {
      "text/plain": [
       "40.34159021646764"
      ]
     },
     "execution_count": 22,
     "metadata": {},
     "output_type": "execute_result"
    }
   ],
   "source": [
    "activos = (total_confirmados - total_recuperados) - total_decesos\n",
    "poblacion = mundiales['Population (2020)'].sum()\n",
    "\n",
    "porcentaje_activos = (activos*100)/total_confirmados\n",
    "porcentaje_activos"
   ]
  },
  {
   "cell_type": "markdown",
   "metadata": {},
   "source": [
    "El porcentaje de casos activos respecto al total de casos confirmados es de **40.34%**"
   ]
  },
  {
   "cell_type": "markdown",
   "metadata": {},
   "source": [
    "#### Decesos respecto al total de casos cerrados"
   ]
  },
  {
   "cell_type": "code",
   "execution_count": 23,
   "metadata": {},
   "outputs": [
    {
     "data": {
      "text/plain": [
       "3.544197190102288"
      ]
     },
     "execution_count": 23,
     "metadata": {},
     "output_type": "execute_result"
    }
   ],
   "source": [
    "cerrados = total_recuperados + total_decesos\n",
    "\n",
    "porcentaje_decesos = (total_decesos/cerrados)*100\n",
    "porcentaje_decesos"
   ]
  },
  {
   "cell_type": "markdown",
   "metadata": {},
   "source": [
    "El porcentaje de decesos a nivel mundial respecto al total de casos cerrados es de un **3.54%**"
   ]
  },
  {
   "cell_type": "markdown",
   "metadata": {},
   "source": [
    "#### Recuperados respecto al total de casos cerrados"
   ]
  },
  {
   "cell_type": "code",
   "execution_count": 24,
   "metadata": {},
   "outputs": [
    {
     "data": {
      "text/plain": [
       "96.4558028098977"
      ]
     },
     "execution_count": 24,
     "metadata": {},
     "output_type": "execute_result"
    }
   ],
   "source": [
    "porcentaje_recuperados = (total_recuperados/cerrados)*100\n",
    "porcentaje_recuperados"
   ]
  },
  {
   "cell_type": "markdown",
   "metadata": {},
   "source": [
    "El porcentaje de casos recuperados respecto a los casos cerrados a nivel mundial es de **96.46%**"
   ]
  },
  {
   "cell_type": "markdown",
   "metadata": {},
   "source": [
    "### Tasas de Incidencia, Recuperación y Mortalidad"
   ]
  },
  {
   "cell_type": "markdown",
   "metadata": {},
   "source": [
    "#### Incidencia"
   ]
  },
  {
   "cell_type": "code",
   "execution_count": 25,
   "metadata": {},
   "outputs": [
    {
     "data": {
      "text/plain": [
       "1877.9630804461922"
      ]
     },
     "execution_count": 25,
     "metadata": {},
     "output_type": "execute_result"
    }
   ],
   "source": [
    "t_incidencia = (total_confirmados * 100000)/poblacion\n",
    "t_incidencia"
   ]
  },
  {
   "cell_type": "markdown",
   "metadata": {},
   "source": [
    "La tasa de incidencia es de **1878 personas contagiadas por cada 100000 personas.**"
   ]
  },
  {
   "cell_type": "markdown",
   "metadata": {},
   "source": [
    "#### Recuperación"
   ]
  },
  {
   "cell_type": "code",
   "execution_count": 26,
   "metadata": {},
   "outputs": [
    {
     "data": {
      "text/plain": [
       "1080.655039336756"
      ]
     },
     "execution_count": 26,
     "metadata": {},
     "output_type": "execute_result"
    }
   ],
   "source": [
    "t_recuperacion = (total_recuperados * 100000)/poblacion\n",
    "t_recuperacion"
   ]
  },
  {
   "cell_type": "markdown",
   "metadata": {},
   "source": [
    "**Por cada 100000 personas existen 1081** que se han recuperado del Covid19."
   ]
  },
  {
   "cell_type": "markdown",
   "metadata": {},
   "source": [
    "#### Mortalidad"
   ]
  },
  {
   "cell_type": "code",
   "execution_count": 27,
   "metadata": {},
   "outputs": [
    {
     "data": {
      "text/plain": [
       "39.70787077928081"
      ]
     },
     "execution_count": 27,
     "metadata": {},
     "output_type": "execute_result"
    }
   ],
   "source": [
    "t_mortalidad = (total_decesos * 100000)/poblacion\n",
    "t_mortalidad"
   ]
  },
  {
   "cell_type": "markdown",
   "metadata": {},
   "source": [
    "**40 de cada 100000 personas** mueren debido al Covid19 a nivel mundial."
   ]
  },
  {
   "cell_type": "markdown",
   "metadata": {},
   "source": [
    "### Top 5"
   ]
  },
  {
   "cell_type": "code",
   "execution_count": 28,
   "metadata": {},
   "outputs": [],
   "source": [
    "df_incidencia = confirmados_mundial['4/25/21'].mul(100000).div(confirmados_mundial['Population (2020)']).sort_values(0)\n",
    "df_recuperacion = recuperados_mundial['4/25/21'].mul(100000).div(recuperados_mundial['Population (2020)']).sort_values(0)\n",
    "df_mortalidad = decesos_mundial['4/25/21'].mul(100000).div(decesos_mundial['Population (2020)']).sort_values(0)"
   ]
  },
  {
   "cell_type": "markdown",
   "metadata": {},
   "source": [
    "**Mayor tasa de incidencia**"
   ]
  },
  {
   "cell_type": "code",
   "execution_count": 29,
   "metadata": {},
   "outputs": [
    {
     "data": {
      "text/plain": [
       "Slovenia      11401.118524\n",
       "San Marino    14868.607118\n",
       "Czechia       15116.787605\n",
       "Montenegro    15389.759266\n",
       "Andorra       16898.055300\n",
       "dtype: float64"
      ]
     },
     "execution_count": 29,
     "metadata": {},
     "output_type": "execute_result"
    }
   ],
   "source": [
    "df_incidencia.tail()"
   ]
  },
  {
   "cell_type": "markdown",
   "metadata": {},
   "source": [
    "**Menor tasa de incidencia**"
   ]
  },
  {
   "cell_type": "code",
   "execution_count": 30,
   "metadata": {},
   "outputs": [
    {
     "data": {
      "text/plain": [
       "Tanzania           0.848158\n",
       "Micronesia         0.867822\n",
       "Vanuatu            1.297282\n",
       "Samoa              1.510247\n",
       "Solomon Islands    2.899933\n",
       "dtype: float64"
      ]
     },
     "execution_count": 30,
     "metadata": {},
     "output_type": "execute_result"
    }
   ],
   "source": [
    "df_incidencia.head()"
   ]
  },
  {
   "cell_type": "markdown",
   "metadata": {},
   "source": [
    "**Mayor tasa de recuperación**"
   ]
  },
  {
   "cell_type": "code",
   "execution_count": 31,
   "metadata": {},
   "outputs": [
    {
     "data": {
      "text/plain": [
       "Slovenia      10695.487085\n",
       "Czechia       14227.759190\n",
       "San Marino    14255.833137\n",
       "Montenegro    14744.777735\n",
       "Andorra       16161.838343\n",
       "dtype: float64"
      ]
     },
     "execution_count": 31,
     "metadata": {},
     "output_type": "execute_result"
    }
   ],
   "source": [
    "df_recuperacion.tail()"
   ]
  },
  {
   "cell_type": "markdown",
   "metadata": {},
   "source": [
    "**Menor tasa de recuperación**"
   ]
  },
  {
   "cell_type": "code",
   "execution_count": 32,
   "metadata": {},
   "outputs": [
    {
     "data": {
      "text/plain": [
       "Serbia      0.000000\n",
       "Sweden      0.000000\n",
       "Belgium     0.000000\n",
       "US          0.000000\n",
       "Tanzania    0.304937\n",
       "dtype: float64"
      ]
     },
     "execution_count": 32,
     "metadata": {},
     "output_type": "execute_result"
    }
   ],
   "source": [
    "df_recuperacion.head()"
   ]
  },
  {
   "cell_type": "markdown",
   "metadata": {},
   "source": [
    "**Mayor tasa de mortalidad**"
   ]
  },
  {
   "cell_type": "code",
   "execution_count": 33,
   "metadata": {},
   "outputs": [
    {
     "data": {
      "text/plain": [
       "Montenegro                233.250541\n",
       "Bosnia and Herzegovina    250.308805\n",
       "San Marino                262.196559\n",
       "Czechia                   270.357539\n",
       "Hungary                   275.735780\n",
       "dtype: float64"
      ]
     },
     "execution_count": 33,
     "metadata": {},
     "output_type": "execute_result"
    }
   ],
   "source": [
    "df_mortalidad.tail()"
   ]
  },
  {
   "cell_type": "markdown",
   "metadata": {},
   "source": [
    "**Menor tasa de mortalidad**"
   ]
  },
  {
   "cell_type": "code",
   "execution_count": 34,
   "metadata": {},
   "outputs": [
    {
     "data": {
      "text/plain": [
       "Saint Kitts and Nevis    0.0\n",
       "Marshall Islands         0.0\n",
       "Laos                     0.0\n",
       "Samoa                    0.0\n",
       "Holy See                 0.0\n",
       "dtype: float64"
      ]
     },
     "execution_count": 34,
     "metadata": {},
     "output_type": "execute_result"
    }
   ],
   "source": [
    "df_mortalidad.head()"
   ]
  },
  {
   "cell_type": "markdown",
   "metadata": {},
   "source": [
    "### Discusión"
   ]
  },
  {
   "cell_type": "markdown",
   "metadata": {},
   "source": [
    "¿En qué lugar/ranking se encuentra Chile con respecto a cada una de las métricas de los puntos anteriores?"
   ]
  },
  {
   "cell_type": "markdown",
   "metadata": {},
   "source": [
    "Incidencia:\n",
    "Recuperación:\n",
    "Mortalidad:"
   ]
  },
  {
   "cell_type": "code",
   "execution_count": 35,
   "metadata": {},
   "outputs": [
    {
     "name": "stdout",
     "output_type": "stream",
     "text": [
      "144\n"
     ]
    }
   ],
   "source": [
    "rank = (df_incidencia.index == \"Chile\")\n",
    "print(np.where(rank==True)[0][0]+1)"
   ]
  },
  {
   "cell_type": "code",
   "execution_count": 36,
   "metadata": {},
   "outputs": [
    {
     "name": "stdout",
     "output_type": "stream",
     "text": [
      "158\n"
     ]
    }
   ],
   "source": [
    "rank = (df_recuperacion.index == \"Chile\")\n",
    "print(np.where(rank==True)[0][0]+1)"
   ]
  },
  {
   "cell_type": "code",
   "execution_count": 37,
   "metadata": {},
   "outputs": [
    {
     "name": "stdout",
     "output_type": "stream",
     "text": [
      "154\n"
     ]
    }
   ],
   "source": [
    "rank = (df_mortalidad.index == \"Chile\")\n",
    "print(np.where(rank==True)[0][0]+1)"
   ]
  },
  {
   "cell_type": "markdown",
   "metadata": {},
   "source": [
    "### Comparación respecto a países de la OCDE"
   ]
  },
  {
   "cell_type": "code",
   "execution_count": 38,
   "metadata": {},
   "outputs": [],
   "source": [
    "paises_ocde=['Austria','Australia','Belgium','Canada','Chile','Colombia','Czechia','Denmark','Estonia',\n",
    "        'Finland','France','Germany','Greece','Hungary','Iceland','Ireland','Israel','Italy','Japan','South Korea',\n",
    "        'Latvia','Lithuania','Luxembourg','Mexico','Netherlands','New Zealand','Norway','Poland','Portugal',\n",
    "        'Slovakia','Slovenia','Spain','Sweden','Switzerland','Turkey','United Kingdom','US']"
   ]
  },
  {
   "cell_type": "markdown",
   "metadata": {},
   "source": [
    " ¿A qué países de la OCDE se parece más?"
   ]
  },
  {
   "cell_type": "code",
   "execution_count": 39,
   "metadata": {},
   "outputs": [
    {
     "data": {
      "text/plain": [
       "New Zealand          53.861849\n",
       "Australia           116.161278\n",
       "South Korea         232.827688\n",
       "Japan               449.831973\n",
       "Finland            1548.183522\n",
       "Mexico             1802.634203\n",
       "Iceland            1870.455583\n",
       "Norway             2037.581002\n",
       "Canada             3140.237094\n",
       "Greece             3198.876966\n",
       "Germany            3944.475319\n",
       "Denmark            4284.427635\n",
       "Ireland            4985.237304\n",
       "Colombia           5442.660276\n",
       "Turkey             5479.561731\n",
       "Chile              6108.958634\n",
       "Chile              6108.958634\n",
       "Latvia             6125.983315\n",
       "United Kingdom     6505.599362\n",
       "Italy              6555.721976\n",
       "Austria            6754.904213\n",
       "Slovakia           6957.938019\n",
       "Poland             7290.989212\n",
       "Spain              7418.235347\n",
       "Switzerland        7460.624549\n",
       "Hungary            7969.338803\n",
       "Portugal           8187.700052\n",
       "Belgium            8401.277033\n",
       "France             8513.341643\n",
       "Netherlands        8670.193303\n",
       "Lithuania          8886.437794\n",
       "Estonia            9061.252302\n",
       "Sweden             9281.121414\n",
       "Israel             9656.304182\n",
       "US                 9681.015377\n",
       "Luxembourg        10515.625199\n",
       "Slovenia          11401.118524\n",
       "Czechia           15116.787605\n",
       "dtype: float64"
      ]
     },
     "execution_count": 39,
     "metadata": {},
     "output_type": "execute_result"
    }
   ],
   "source": [
    "df_incidencia_ocde = df_incidencia[df_incidencia.index == \"Chile\"]\n",
    "for i in paises_ocde:\n",
    "    df_incidencia_ocde = df_incidencia_ocde.append(df_incidencia[df_incidencia.index == i]).sort_values(0)\n",
    "df_incidencia_ocde"
   ]
  },
  {
   "cell_type": "markdown",
   "metadata": {},
   "source": [
    "En términos de **incidencia** se parece más a **Turquía y Latvia.**"
   ]
  },
  {
   "cell_type": "code",
   "execution_count": 40,
   "metadata": {},
   "outputs": [
    {
     "data": {
      "text/plain": [
       "Belgium               0.000000\n",
       "US                    0.000000\n",
       "Sweden                0.000000\n",
       "United Kingdom       21.269118\n",
       "New Zealand          52.640069\n",
       "Australia            90.835145\n",
       "Netherlands         136.072923\n",
       "South Korea         212.278505\n",
       "Spain               321.604997\n",
       "Norway              331.540727\n",
       "Japan               396.695852\n",
       "Ireland             472.260745\n",
       "France              517.912009\n",
       "Finland             829.989768\n",
       "Greece              900.370427\n",
       "Mexico             1432.791601\n",
       "Iceland            1822.742867\n",
       "Canada             2859.939046\n",
       "Germany            3480.491673\n",
       "Switzerland        3665.060126\n",
       "Denmark            4077.345931\n",
       "Slovakia           4675.730832\n",
       "Turkey             4821.151884\n",
       "Hungary            4993.867533\n",
       "Colombia           5077.274420\n",
       "Latvia             5591.455200\n",
       "Italy              5595.443936\n",
       "Chile              5745.315717\n",
       "Chile              5745.315717\n",
       "Austria            6357.537984\n",
       "Poland             6446.775974\n",
       "Portugal           7777.972604\n",
       "Lithuania          8025.182850\n",
       "Estonia            8087.628411\n",
       "Israel             9563.650103\n",
       "Luxembourg         9906.420861\n",
       "Slovenia          10695.487085\n",
       "Czechia           14227.759190\n",
       "dtype: float64"
      ]
     },
     "execution_count": 40,
     "metadata": {},
     "output_type": "execute_result"
    }
   ],
   "source": [
    "df_recuperacion_ocde = df_recuperacion[df_recuperacion.index == \"Chile\"]\n",
    "for i in paises_ocde:\n",
    "    df_recuperacion_ocde = df_recuperacion_ocde.append(df_recuperacion[df_recuperacion.index == i]).sort_values(0)\n",
    "df_recuperacion_ocde"
   ]
  },
  {
   "cell_type": "markdown",
   "metadata": {},
   "source": [
    "En términos de **recuperación** se parece más a **Italia y Austria.**"
   ]
  },
  {
   "cell_type": "code",
   "execution_count": 41,
   "metadata": {},
   "outputs": [
    {
     "data": {
      "text/plain": [
       "New Zealand         0.538411\n",
       "South Korea         3.543501\n",
       "Australia           3.561549\n",
       "Japan               7.862671\n",
       "Iceland             8.488766\n",
       "Norway             13.557838\n",
       "Finland            16.293060\n",
       "Denmark            42.720738\n",
       "Turkey             45.396638\n",
       "Canada             63.360782\n",
       "Israel             73.192229\n",
       "Estonia            86.154069\n",
       "Greece             96.092390\n",
       "Germany            97.423420\n",
       "Ireland            98.498828\n",
       "Netherlands       100.813556\n",
       "Latvia            111.665484\n",
       "Austria           111.886812\n",
       "Switzerland       121.976340\n",
       "Luxembourg        125.855499\n",
       "Chile             135.056325\n",
       "Chile             135.056325\n",
       "Sweden            137.711960\n",
       "Colombia          139.969109\n",
       "Lithuania         141.713377\n",
       "France            157.762156\n",
       "Spain             165.941728\n",
       "Mexico            166.411403\n",
       "Portugal          166.463734\n",
       "US                172.692155\n",
       "Poland            172.876025\n",
       "United Kingdom    187.909092\n",
       "Italy             197.263559\n",
       "Slovenia          202.406073\n",
       "Belgium           207.131107\n",
       "Slovakia          210.526933\n",
       "Czechia           270.357539\n",
       "Hungary           275.735780\n",
       "dtype: float64"
      ]
     },
     "execution_count": 41,
     "metadata": {},
     "output_type": "execute_result"
    }
   ],
   "source": [
    "df_mortalidad_ocde = df_mortalidad[df_mortalidad.index == \"Chile\"]\n",
    "for i in paises_ocde:\n",
    "    df_mortalidad_ocde = df_mortalidad_ocde.append(df_mortalidad[df_mortalidad.index == i]).sort_values(0)\n",
    "df_mortalidad_ocde"
   ]
  },
  {
   "cell_type": "markdown",
   "metadata": {},
   "source": [
    "En términos de **mortalidad** se parece más a **Luxemburgo y Suecia.**"
   ]
  },
  {
   "cell_type": "markdown",
   "metadata": {},
   "source": [
    "### Comparación respecto a latinoamérica"
   ]
  },
  {
   "cell_type": "code",
   "execution_count": 42,
   "metadata": {},
   "outputs": [],
   "source": [
    "paises_latam=['Argentina', 'Colombia',\n",
    "              'Bolivia', 'Ecuador', 'Peru', 'Venezuela',\n",
    "              'Brazil', 'Guatemala', 'Uruguay', 'Nicaragua', 'Paraguay',\n",
    "             'Panama', 'Puerto Rico', 'Cuba']"
   ]
  },
  {
   "cell_type": "code",
   "execution_count": 43,
   "metadata": {},
   "outputs": [
    {
     "data": {
      "text/plain": [
       "Nicaragua     102.966598\n",
       "Venezuela     673.847102\n",
       "Cuba          896.242788\n",
       "Guatemala    1233.616869\n",
       "Ecuador      2110.749415\n",
       "Bolivia      2544.049007\n",
       "Paraguay     3736.691424\n",
       "Uruguay      5318.567415\n",
       "Peru         5329.996229\n",
       "Colombia     5442.660276\n",
       "Chile        6108.958634\n",
       "Argentina    6319.958520\n",
       "Brazil       6738.395440\n",
       "Panama       8389.786552\n",
       "dtype: float64"
      ]
     },
     "execution_count": 43,
     "metadata": {},
     "output_type": "execute_result"
    }
   ],
   "source": [
    "df_incidencia_latam = df_incidencia[df_incidencia.index == \"Chile\"]\n",
    "for i in paises_latam:\n",
    "    df_incidencia_latam = df_incidencia_latam.append(df_incidencia[df_incidencia.index == i]).sort_values(0)\n",
    "df_incidencia_latam"
   ]
  },
  {
   "cell_type": "markdown",
   "metadata": {},
   "source": [
    "En términos de **incidencia**, se parece mas a **Colombia y Argentina**"
   ]
  },
  {
   "cell_type": "code",
   "execution_count": 44,
   "metadata": {},
   "outputs": [
    {
     "data": {
      "text/plain": [
       "Nicaragua      63.647970\n",
       "Venezuela     609.033678\n",
       "Cuba          839.661960\n",
       "Guatemala    1094.278670\n",
       "Ecuador      1801.148864\n",
       "Bolivia      2099.390207\n",
       "Paraguay     3073.037724\n",
       "Uruguay      4444.649670\n",
       "Colombia     5077.274420\n",
       "Peru         5107.655742\n",
       "Argentina    5562.864830\n",
       "Chile        5745.315717\n",
       "Brazil       5927.281874\n",
       "Panama       8155.544604\n",
       "dtype: float64"
      ]
     },
     "execution_count": 44,
     "metadata": {},
     "output_type": "execute_result"
    }
   ],
   "source": [
    "df_recuperacion_latam = df_recuperacion[df_recuperacion.index == \"Chile\"]\n",
    "for i in paises_latam:\n",
    "    df_recuperacion_latam = df_recuperacion_latam.append(df_recuperacion[df_recuperacion.index == i]).sort_values(0)\n",
    "df_recuperacion_latam"
   ]
  },
  {
   "cell_type": "markdown",
   "metadata": {},
   "source": [
    "En términos de **recuperación**, se parece mas a **Brasil y Argentina**"
   ]
  },
  {
   "cell_type": "code",
   "execution_count": 45,
   "metadata": {},
   "outputs": [
    {
     "data": {
      "text/plain": [
       "Nicaragua      2.726694\n",
       "Cuba           5.218363\n",
       "Venezuela      7.202274\n",
       "Guatemala     41.232221\n",
       "Uruguay       66.919037\n",
       "Paraguay      82.545733\n",
       "Ecuador      102.761106\n",
       "Bolivia      109.604898\n",
       "Chile        135.056325\n",
       "Argentina    136.177322\n",
       "Colombia     139.969109\n",
       "Panama       143.517688\n",
       "Peru         180.706864\n",
       "Brazil       183.626235\n",
       "dtype: float64"
      ]
     },
     "execution_count": 45,
     "metadata": {},
     "output_type": "execute_result"
    }
   ],
   "source": [
    "df_mortalidad_latam = df_mortalidad[df_mortalidad.index == \"Chile\"]\n",
    "for i in paises_latam:\n",
    "    df_mortalidad_latam = df_mortalidad_latam.append(df_mortalidad[df_mortalidad.index == i]).sort_values(0)\n",
    "df_mortalidad_latam"
   ]
  },
  {
   "cell_type": "markdown",
   "metadata": {},
   "source": [
    "En términos de **mortalidad**, se parece mas a **Bolivia y Argentina**"
   ]
  },
  {
   "cell_type": "markdown",
   "metadata": {},
   "source": [
    "## Análisis Temporal y Comparativo"
   ]
  },
  {
   "cell_type": "code",
   "execution_count": 46,
   "metadata": {},
   "outputs": [
    {
     "data": {
      "application/vnd.jupyter.widget-view+json": {
       "model_id": "262124cfc87d4cac98a5b59f69d95db4",
       "version_major": 2,
       "version_minor": 0
      },
      "text/plain": [
       "interactive(children=(Dropdown(description='x', options=('Austria', 'Australia', 'Belgium', 'Canada', 'Chile',…"
      ]
     },
     "metadata": {},
     "output_type": "display_data"
    }
   ],
   "source": [
    "def f(x,y):\n",
    "    titleNames=['Confirmados','Recuperados','Decesos']\n",
    "    out1 = widgets.Output()\n",
    "    out2 = widgets.Output()\n",
    "    out3 = widgets.Output()\n",
    "    data1 = pd.DataFrame(np.random.normal(size = 50))\n",
    "    data2 = pd.DataFrame(np.random.normal(size = 100))\n",
    "    tab = widgets.Tab(children = [out1,out2,out3])\n",
    "    for i in range(len(titleNames)):\n",
    "        tab.set_title(i, titleNames[i])\n",
    "    display(tab)\n",
    "    with out1:\n",
    "        df1 = covid19_confirmados.groupby('Country/Region').sum().reset_index()\n",
    "        \n",
    "        k = df1[df1['Country/Region']==x].loc[:,'1/24/20':]\n",
    "        country1_confirmados = k.values.tolist()[0]\n",
    "        k = df1[df1['Country/Region']==y].loc[:,'1/24/20':]\n",
    "        country2_confirmados = k.values.tolist()[0]\n",
    "        \n",
    "        dates = list(covid19_confirmados.columns[:])\n",
    "        dates = list(pd.to_datetime(dates))\n",
    "        dates_country = dates[2:]\n",
    "        fig1, axes1_1= plt.subplots(figsize= (6,6))\n",
    "        plt.xticks(rotation = 60)\n",
    "        plt.xlabel(\"Fecha\")\n",
    "        plt.ylabel(\"Casos confirmados\")\n",
    "        plt.title(\"Total Confirmados\") \n",
    "        axes1_1 = plt.plot_date(y=country1_confirmados,x=dates_country,label = x,color = 'r')\n",
    "        axes1_1 = plt.plot_date(y=country2_confirmados,x=dates_country,label = y,color = 'b')\n",
    "        plt.legend()\n",
    "        plt.show(fig1)\n",
    "    with out2:\n",
    "        df1 = covid19_recuperados.groupby('Country/Region').sum().reset_index()\n",
    "        \n",
    "        k = df1[df1['Country/Region']==x].loc[:,'1/24/20':]\n",
    "        country1_recuperados = k.values.tolist()[0]\n",
    "        k = df1[df1['Country/Region']==y].loc[:,'1/24/20':]\n",
    "        country2_recuperados = k.values.tolist()[0]\n",
    "        \n",
    "        dates = list(covid19_recuperados.columns[:])\n",
    "        dates = list(pd.to_datetime(dates))\n",
    "        dates_country = dates[2:]\n",
    "        fig2, axes2_1= plt.subplots(figsize= (6,6))\n",
    "        plt.xticks(rotation = 60)\n",
    "        plt.xlabel(\"Fecha\")\n",
    "        plt.ylabel(\"Casos Recuperados\")\n",
    "        plt.title(\"Total Recuperados\") \n",
    "        axes2_1 = plt.plot_date(y=country1_recuperados,x=dates_country,label = x,color = 'r',linestyle ='-')\n",
    "        axes2_1 = plt.plot_date(y=country2_recuperados,x=dates_country,label = y,color = 'b',linestyle ='-')\n",
    "        plt.legend()\n",
    "        plt.show(fig2)\n",
    "    with out3:\n",
    "        df1 = covid19_decesos.groupby('Country/Region').sum().reset_index()\n",
    "        \n",
    "        k = df1[df1['Country/Region']==x].loc[:,'1/24/20':]\n",
    "        country1_decesos = k.values.tolist()[0]\n",
    "        k = df1[df1['Country/Region']==y].loc[:,'1/24/20':]\n",
    "        country2_decesos = k.values.tolist()[0]\n",
    "        \n",
    "        dates = list(covid19_decesos.columns[:])\n",
    "        dates = list(pd.to_datetime(dates))\n",
    "        dates_country = dates[2:]\n",
    "        fig3, axes3_1= plt.subplots(figsize= (6,6))\n",
    "        plt.xticks(rotation = 60)\n",
    "        plt.xlabel(\"Fecha\")\n",
    "        plt.ylabel(\"Casos Decesos\")\n",
    "        plt.title(\"Total Decesos\") \n",
    "        axes3_1 = plt.plot_date(y=country1_decesos,x=dates_country,label = x,color = 'r',linestyle ='-')\n",
    "        axes3_1 = plt.plot_date(y=country2_decesos,x=dates_country,label = y,color = 'b',linestyle ='-')\n",
    "        plt.legend()\n",
    "        plt.show(fig3)\n",
    "    return\n",
    "\n",
    "Interactiveplot = interact(f, x=paises_ocde, y=paises_ocde)"
   ]
  },
  {
   "cell_type": "markdown",
   "metadata": {},
   "source": [
    "Se analizaron las tres series de tiempo correspondientes a **Confirmados, Recuperados y Decesos** concluyendo lo siguiente:\n",
    "En el mes de Junio de 2020 encontramos la primera alza en confirmados, donde aproximadamente dos semanas después también comenzaron a subir en magnitud similar, los casos de recuperados y decesos. Posterior a este peak, se mantuvo un alza relativamente constante en confirmados y recuperados, mientras decesos subió a razón un poco menor que en el peak.\n",
    "Luego, en Marzo de 2021 encontramos el segundo peak, donde confirmados y recuperados tuvo un mayor alza respecto de Decesos, se considera que la cantidad de Decesos no se elevó en la misma razón que Marzo de 2020 gracias a la vacunación en el país.\n",
    "\n",
    "Comparación del país Chile respecto a otros países de la OCDE:\n",
    "\n",
    "Chile - New Zealand: La comparación es drástica, el país oceánico practicamente no posee casos, el gráfico de alzas prácticamente se mantiene paralelo al eje X, con Y=0 a lo largo de todo el tiempo. El peak de Chile supera más de cien veces el peak de New Zealand.\n",
    "\n",
    "Chile - United States: Estados Unidos presenta considerablemente mayor cantidad de casos que en Chile, considerando su población, es considerado normal, de hecho, el comportamiento es similar al país sudamericano, ya que para sus casos confirmados posee dos peak importantes en el mes de abril 2020 y en noviembre de 2020.\n",
    "\n",
    "Chile - Colombia: Para estos países, en casos Confirmados existe similitud hasta mayor de 2020 y después de Enero 2021, en el periodo intermedio a estas fechas, Colombia tuvo un alza mucho mayor que se ha mantenido constante, mientras Chile ha rebajado sus niveles de confirmados.\n",
    "\n",
    "Chile - Italia: Los casos confirmados de ambos países se mantuvieron similares hasta octubre de 2020, con la diferencia que Italia tuvo su peak inicial a comienzos de Abril. Luego de esta fecha, Italia tuvo un peak muy grande y constante hasta la fecha actual. Sin embargo, respecto a la tasa de recuperados Chile tuvo mucho mejores números, ya que cuando incuso Italia tenia mas caso confirmados, Chile poseía un mayor número de Recuperados. Además, en casos de Decesos, Italia supera con creces al país latinoamericano.\n",
    "\n",
    "Chile - Francia: Ambos países venían en una situación muy similar respecto a confirmados hasta finales de Septiembre de 2020, sin embargo, desde esta fecha, Francia tuvo un incremento muy grande que se mantuvo constante hasta la fecha. Respecto a recuperados y Decesos, el caso es similar a Italia, donde Chile supera en cantidad de recuperados y posee menor cantidad de Decesos."
   ]
  },
  {
   "cell_type": "markdown",
   "metadata": {},
   "source": [
    "## Dashboard Interactivo en Voila"
   ]
  },
  {
   "cell_type": "markdown",
   "metadata": {},
   "source": [
    "**Link:**"
   ]
  },
  {
   "cell_type": "code",
   "execution_count": null,
   "metadata": {},
   "outputs": [],
   "source": []
  }
 ],
 "metadata": {
  "kernelspec": {
   "display_name": "Python 3",
   "language": "python",
   "name": "python3"
  },
  "language_info": {
   "codemirror_mode": {
    "name": "ipython",
    "version": 3
   },
   "file_extension": ".py",
   "mimetype": "text/x-python",
   "name": "python",
   "nbconvert_exporter": "python",
   "pygments_lexer": "ipython3",
   "version": "3.6.9"
  },
  "toc": {
   "base_numbering": 1,
   "nav_menu": {},
   "number_sections": true,
   "sideBar": true,
   "skip_h1_title": false,
   "title_cell": "Table of Contents",
   "title_sidebar": "Contents",
   "toc_cell": false,
   "toc_position": {},
   "toc_section_display": true,
   "toc_window_display": false
  }
 },
 "nbformat": 4,
 "nbformat_minor": 2
}
