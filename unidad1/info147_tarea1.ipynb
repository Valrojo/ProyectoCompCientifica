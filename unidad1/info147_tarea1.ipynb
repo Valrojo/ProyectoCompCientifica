{
 "cells": [
  {
   "cell_type": "markdown",
   "metadata": {},
   "source": [
    "# Tarea 1: Explorando datos mundiales de COVID-19 \n",
    "\n",
    "En esta actividad se pide que explore los datos del repositorio [\"COVID-19 Data Repository by the Center for Systems Science and Engineering (CSSE) at Johns Hopkins University\"](https://github.com/CSSEGISandData/COVID-19)\n",
    "\n",
    "Adjunto a este cuadernillo encontrará los datos al 26 de Abril de 2021 de dicho repositorio en el archivo `data.zip`. Luego de descomprimir debería observar cuatro archivos\n",
    "\n",
    "- `covid19_confirmados.csv` : Número de casos diarios acumulado reportados como COVID-19 positivos (confirmados)\n",
    "- `covid19_recuperados.csv` : Número de casos diarios acumulado reportados como recuperados \n",
    "- `covid19_decesos.csv` : Número de decesos diarios por COVID-19 acumulado \n",
    "- `population_by_country_2020.csv`:  Población por país más otros indicadores socioeconómicos al 2020 descargados desde: https://www.kaggle.com/tanuprabhu/population-by-country-2020\n",
    "\n",
    "En los primeros tres archivos cada fila corresponde a un país o un estado/provincia de un país. Las columnas son las coordenadas geográficas (latitud y longitud) y el número de casos diarios para cada día desde Enero de 2020 a la fecha. Según quienes compilaron este repositorio, la información de casos recuperados debe analizarse con cautela pues podría estar considerablemente subestimada. \n",
    "\n",
    "A modo de ejemplo se muestra a continuación una gráfica de la series de tiempo del número de casos confirmados totales acumulados de Chile, Argentina y Bolivia \n",
    "\n",
    "<img src=\"ejemplo1.png\">\n",
    "\n",
    "A partir de esta información se puede calcular la serie de tiempo de los casos confirmados \"nuevos\" por día\n",
    "\n",
    "<img src=\"ejemplo2.png\">\n",
    "\n",
    "En esta tarea se pide que procese, visualice, analice y discuta en base a estos datos. Escriba las rutinas de Python necesarias para resolver las actividades específicas que encontrará en este enunciado. **Use las librerías vistas en el curso**. Discuta con sus compañeros de grupo y complete con su análisis donde corresponda."
   ]
  },
  {
   "cell_type": "markdown",
   "metadata": {},
   "source": [
    "## Instrucciones generales \n",
    "\n",
    "1. Forme un grupo de **máximo tres estudiantes**\n",
    "1. Versione su trabajo usando un **repositorio privado de github**. Agregue a sus compañeros y a su profesor (usuario github: phuijse) en la pestaña *Settings/Manage access*. No se aceptarán consultas de programación si no se cumple este requisito\n",
    "1. Su tarea se evaluará en base al último commit antes de la fecha de entrega: **14:10 del 10 de Mayo de 2021**. La nota se calcula como (\"pt totales\" + 1)\n",
    "1. [Sean leales y honestos](https://www.acm.org/about-acm/code-of-ethics-in-spanish), no copie ni comparta resultados con otros grupos"
   ]
  },
  {
   "cell_type": "markdown",
   "metadata": {},
   "source": [
    "## Enunciado"
   ]
  },
  {
   "cell_type": "markdown",
   "metadata": {},
   "source": [
    "### Preparación de datos (1.5pt)"
   ]
  },
  {
   "cell_type": "markdown",
   "metadata": {},
   "source": [
    "1. Explore el archivo `covid19_confirmados.csv` y configure la función `read_csv` de pandas para importarlo como un `DataFrame`. \n",
    "    1. Utilice el nombre de país como índice principal\n",
    "    1. Elimine las columnas `Lat` y `Long`\n",
    "    1. Use TimeStamps para los \"nombres de columna\" asociados a fechas\n",
    "    1. Reduzca la columna `Province/State`, el DataFrame resultante debe tener los totales a nivel país\n",
    "1. Explore el archivo `mundiales.csv` y configure la función `read_csv` de pandas para importarlo como un `DataFrame`. \n",
    "    1. Utilice el nombre de país como índice principal. Algunos siglas o nombres podrían no calzar con el `DataFrame` anterior, modifíquelos manualmente o usando pandas. \n",
    "1. Haga un `merge` de los `DataFrame` anteriores. El objetivo es asignar un valor de `Population` a cada elemento del primer `DataFrame`. Indique las filas donde no se puede realizar el `merge` y luego descártelas de su `DataFrame` final\n",
    "1. Repita el procedimiento anterior para los archivos `covid19_recuperados.csv` y `covid19_muertes.csv` "
   ]
  },
  {
   "cell_type": "markdown",
   "metadata": {},
   "source": [
    "### Análisis global (1.5pt)\n",
    "\n",
    "1. Obtenga la cantidad total mundial a la fecha (26 de Abril) de los casos (a) confirmados, (b) cerrados (recuperados más decesos) y (c) activos (confirmados menos cerrados) por país. En base a estas cantidades calcule el porcentaje de \n",
    "    1. casos activos con respecto al total de confirmados\n",
    "    1. decesos con respecto al total de casos cerrados\n",
    "    1. recuperados con respecto al total de casos cerrados\n",
    "1. Luego calcule las siguientes tasas en base a información a la fecha\n",
    "    1. Tasa de incidencia: confirmados por 100.000 dividido población total\n",
    "    1. Tasa de recuperación: recuperados por 100.000 dividido población total\n",
    "    1. Tasa de mortalidad: decesos por 100.000 dividido población total\n",
    "1. En base a lo anterior muestre los nombres y los valores de los 5 países con\n",
    "    1. La mayor y menor tasa de incidencia, respectivamente\n",
    "    1. La mayor y menor tasa de recuperación, respectivamente\n",
    "    1. La mayor y menor tasa de mortalidad, respectivamente\n",
    "1. Responda, analice y discuta: ¿En qué lugar/ranking se encuentra Chile con respecto a cada una de las métricas de los puntos anteriores? ¿A qué países de la [OCDE](https://es.wikipedia.org/wiki/Organizaci%C3%B3n_para_la_Cooperaci%C3%B3n_y_el_Desarrollo_Econ%C3%B3micos) se parece más? ¿A qué paises de latinoamérica se parece más? "
   ]
  },
  {
   "cell_type": "markdown",
   "metadata": {},
   "source": [
    "### Análisis temporal y comparativo (2.0pt)\n",
    "\n",
    "1. Construya una interfaz gráfica usando `ipywidgets` y `matplotlib` que permita realizar comparaciones entre las series de tiempo de COVID-19 de dos países seleccionados arbitrariamente. A modo de simplificación considere sólo los países de la [OCDE](https://es.wikipedia.org/wiki/Organizaci%C3%B3n_para_la_Cooperaci%C3%B3n_y_el_Desarrollo_Econ%C3%B3micos). Requerimientos:\n",
    "    1. La interfaz debe incluir controles para escoger dos países a partir de una lista\n",
    "    1. La interfaz debe incluir tres [tabs](https://ipywidgets.readthedocs.io/en/latest/examples/Widget%20List.html#Tabs), el primero debe mostrar las series de tiempo de ambos países de los casos confirmados, el segundo la de recuperados y el tercero la de los decesos, respectivamente. Use una leyenda para indicar el nombre de los países.\n",
    "    1. La interfaz debe tener un control que permita escoger entre casos acumulados y casos nuevos  \n",
    "    1. La interfaz debe tener un control que permita escoger entre valores absolutos y valores relativos (tasas por 100.000 habitantes)\n",
    "    1. La interfaz debe tener un control que permita escoger entre valores diarios y valores semanales (acumulados). Para esto último se recomienda usar `groupby` con una [frecuencia lunes a lunes](https://pandas.pydata.org/pandas-docs/stable/user_guide/timeseries.html#anchored-offsets)\n",
    "    \n",
    "En base a su interfaz:   \n",
    "\n",
    "1. Describa en detalle la situación de Chile con respecto a la evolución temporal de las series de tiempo. En particular destaque patrones y comportamientos que considere relevantes y compare lo que observa en las distintas series de tiempo. Considerando la evolución a nivel de semana, conteste ¿En qué fechas ocurre un aumento o disminución notoria de los casos? ¿En qué fechas hay máximos y mínimos?\n",
    "1. Considerando métricas que sean relativas compare el caso de Chile contra cinco países de la OCDE seleccionados por ustedes. Destaque semejanzas y diferencias considerando las cantidades y los posibles desfases temporales existentes.\n"
   ]
  },
  {
   "cell_type": "markdown",
   "metadata": {},
   "source": [
    "### Dashboard interactivo (1.0pt)\n",
    "\n",
    "Implemente un *dashboard web* interactivo a partir de la interfaz desarrollada en el punto anterior utilizando la librería [voila](https://github.com/voila-dashboards/voila). Sirva su interfaz en la nube, para esto puede considerar los servicios gratuitos [binder](https://mybinder.org/) o [heroku](https://www.heroku.com/free). Revise la documentación de voila [con respecto a *deployment* en la nube](https://voila.readthedocs.io/en/stable/deploy.html) y este repositorio con [un ejemplo en base a heroku](https://github.com/voila-dashboards/voila-heroku). Entregue el link de su dashboard web"
   ]
  },
  {
   "cell_type": "markdown",
   "metadata": {},
   "source": [
    "# Desarrollo"
   ]
  },
  {
   "cell_type": "markdown",
   "metadata": {},
   "source": [
    "## Preparación de Datos"
   ]
  },
  {
   "cell_type": "code",
   "execution_count": 3,
   "metadata": {},
   "outputs": [],
   "source": [
    "import numpy as np\n",
    "import pandas as pd"
   ]
  },
  {
   "cell_type": "markdown",
   "metadata": {},
   "source": [
    "### covid19_confirmados.csv"
   ]
  },
  {
   "cell_type": "markdown",
   "metadata": {},
   "source": [
    "1.A) Creamos el DataFrame y hacemos index la columna 'Country/Region'"
   ]
  },
  {
   "cell_type": "code",
   "execution_count": 7,
   "metadata": {},
   "outputs": [],
   "source": [
    "covid19_confirmados = pd.read_csv(\"data/covid19_confirmados.csv\",index_col='Country/Region')"
   ]
  },
  {
   "cell_type": "markdown",
   "metadata": {},
   "source": [
    "1.B) Eliminando Lat y Long"
   ]
  },
  {
   "cell_type": "code",
   "execution_count": null,
   "metadata": {},
   "outputs": [],
   "source": [
    "covid19_confirmados.drop(labels = [\"Lat\",\"Long\"], axis=1, inplace =True)"
   ]
  },
  {
   "cell_type": "markdown",
   "metadata": {},
   "source": [
    "1.C) Se hace uso de TimeStamps para las columnas de fechas"
   ]
  },
  {
   "cell_type": "code",
   "execution_count": null,
   "metadata": {},
   "outputs": [],
   "source": []
  },
  {
   "cell_type": "markdown",
   "metadata": {},
   "source": [
    "1.D) Agrupando por ciudad"
   ]
  },
  {
   "cell_type": "code",
   "execution_count": 16,
   "metadata": {},
   "outputs": [
    {
     "data": {
      "text/html": [
       "<div>\n",
       "<style scoped>\n",
       "    .dataframe tbody tr th:only-of-type {\n",
       "        vertical-align: middle;\n",
       "    }\n",
       "\n",
       "    .dataframe tbody tr th {\n",
       "        vertical-align: top;\n",
       "    }\n",
       "\n",
       "    .dataframe thead th {\n",
       "        text-align: right;\n",
       "    }\n",
       "</style>\n",
       "<table border=\"1\" class=\"dataframe\">\n",
       "  <thead>\n",
       "    <tr style=\"text-align: right;\">\n",
       "      <th></th>\n",
       "      <th>1/22/20</th>\n",
       "      <th>1/23/20</th>\n",
       "      <th>1/24/20</th>\n",
       "      <th>1/25/20</th>\n",
       "      <th>1/26/20</th>\n",
       "      <th>1/27/20</th>\n",
       "      <th>1/28/20</th>\n",
       "      <th>1/29/20</th>\n",
       "      <th>1/30/20</th>\n",
       "      <th>1/31/20</th>\n",
       "      <th>...</th>\n",
       "      <th>4/16/21</th>\n",
       "      <th>4/17/21</th>\n",
       "      <th>4/18/21</th>\n",
       "      <th>4/19/21</th>\n",
       "      <th>4/20/21</th>\n",
       "      <th>4/21/21</th>\n",
       "      <th>4/22/21</th>\n",
       "      <th>4/23/21</th>\n",
       "      <th>4/24/21</th>\n",
       "      <th>4/25/21</th>\n",
       "    </tr>\n",
       "    <tr>\n",
       "      <th>Country/Region</th>\n",
       "      <th></th>\n",
       "      <th></th>\n",
       "      <th></th>\n",
       "      <th></th>\n",
       "      <th></th>\n",
       "      <th></th>\n",
       "      <th></th>\n",
       "      <th></th>\n",
       "      <th></th>\n",
       "      <th></th>\n",
       "      <th></th>\n",
       "      <th></th>\n",
       "      <th></th>\n",
       "      <th></th>\n",
       "      <th></th>\n",
       "      <th></th>\n",
       "      <th></th>\n",
       "      <th></th>\n",
       "      <th></th>\n",
       "      <th></th>\n",
       "      <th></th>\n",
       "    </tr>\n",
       "  </thead>\n",
       "  <tbody>\n",
       "    <tr>\n",
       "      <th>Cambodia</th>\n",
       "      <td>0</td>\n",
       "      <td>0</td>\n",
       "      <td>0</td>\n",
       "      <td>0</td>\n",
       "      <td>0</td>\n",
       "      <td>1</td>\n",
       "      <td>1</td>\n",
       "      <td>1</td>\n",
       "      <td>1</td>\n",
       "      <td>1</td>\n",
       "      <td>...</td>\n",
       "      <td>5480</td>\n",
       "      <td>5771</td>\n",
       "      <td>6389</td>\n",
       "      <td>7013</td>\n",
       "      <td>7444</td>\n",
       "      <td>7747</td>\n",
       "      <td>8193</td>\n",
       "      <td>8848</td>\n",
       "      <td>9359</td>\n",
       "      <td>9975</td>\n",
       "    </tr>\n",
       "    <tr>\n",
       "      <th>Cameroon</th>\n",
       "      <td>0</td>\n",
       "      <td>0</td>\n",
       "      <td>0</td>\n",
       "      <td>0</td>\n",
       "      <td>0</td>\n",
       "      <td>0</td>\n",
       "      <td>0</td>\n",
       "      <td>0</td>\n",
       "      <td>0</td>\n",
       "      <td>0</td>\n",
       "      <td>...</td>\n",
       "      <td>61731</td>\n",
       "      <td>64809</td>\n",
       "      <td>64809</td>\n",
       "      <td>64809</td>\n",
       "      <td>64809</td>\n",
       "      <td>64809</td>\n",
       "      <td>64809</td>\n",
       "      <td>65998</td>\n",
       "      <td>65998</td>\n",
       "      <td>65998</td>\n",
       "    </tr>\n",
       "    <tr>\n",
       "      <th>Canada</th>\n",
       "      <td>0</td>\n",
       "      <td>0</td>\n",
       "      <td>0</td>\n",
       "      <td>0</td>\n",
       "      <td>1</td>\n",
       "      <td>1</td>\n",
       "      <td>2</td>\n",
       "      <td>2</td>\n",
       "      <td>2</td>\n",
       "      <td>4</td>\n",
       "      <td>...</td>\n",
       "      <td>1113837</td>\n",
       "      <td>1121162</td>\n",
       "      <td>1129371</td>\n",
       "      <td>1139591</td>\n",
       "      <td>1146817</td>\n",
       "      <td>1155053</td>\n",
       "      <td>1164108</td>\n",
       "      <td>1172697</td>\n",
       "      <td>1180065</td>\n",
       "      <td>1186991</td>\n",
       "    </tr>\n",
       "    <tr>\n",
       "      <th>Central African Republic</th>\n",
       "      <td>0</td>\n",
       "      <td>0</td>\n",
       "      <td>0</td>\n",
       "      <td>0</td>\n",
       "      <td>0</td>\n",
       "      <td>0</td>\n",
       "      <td>0</td>\n",
       "      <td>0</td>\n",
       "      <td>0</td>\n",
       "      <td>0</td>\n",
       "      <td>...</td>\n",
       "      <td>5728</td>\n",
       "      <td>5728</td>\n",
       "      <td>5787</td>\n",
       "      <td>5787</td>\n",
       "      <td>5929</td>\n",
       "      <td>6175</td>\n",
       "      <td>6175</td>\n",
       "      <td>6224</td>\n",
       "      <td>6224</td>\n",
       "      <td>6224</td>\n",
       "    </tr>\n",
       "    <tr>\n",
       "      <th>Chad</th>\n",
       "      <td>0</td>\n",
       "      <td>0</td>\n",
       "      <td>0</td>\n",
       "      <td>0</td>\n",
       "      <td>0</td>\n",
       "      <td>0</td>\n",
       "      <td>0</td>\n",
       "      <td>0</td>\n",
       "      <td>0</td>\n",
       "      <td>0</td>\n",
       "      <td>...</td>\n",
       "      <td>4686</td>\n",
       "      <td>4691</td>\n",
       "      <td>4706</td>\n",
       "      <td>4708</td>\n",
       "      <td>4723</td>\n",
       "      <td>4731</td>\n",
       "      <td>4735</td>\n",
       "      <td>4747</td>\n",
       "      <td>4752</td>\n",
       "      <td>4770</td>\n",
       "    </tr>\n",
       "    <tr>\n",
       "      <th>Chile</th>\n",
       "      <td>0</td>\n",
       "      <td>0</td>\n",
       "      <td>0</td>\n",
       "      <td>0</td>\n",
       "      <td>0</td>\n",
       "      <td>0</td>\n",
       "      <td>0</td>\n",
       "      <td>0</td>\n",
       "      <td>0</td>\n",
       "      <td>0</td>\n",
       "      <td>...</td>\n",
       "      <td>1109311</td>\n",
       "      <td>1117348</td>\n",
       "      <td>1124718</td>\n",
       "      <td>1131340</td>\n",
       "      <td>1136189</td>\n",
       "      <td>1141403</td>\n",
       "      <td>1148320</td>\n",
       "      <td>1155902</td>\n",
       "      <td>1162811</td>\n",
       "      <td>1169536</td>\n",
       "    </tr>\n",
       "    <tr>\n",
       "      <th>China</th>\n",
       "      <td>548</td>\n",
       "      <td>643</td>\n",
       "      <td>920</td>\n",
       "      <td>1406</td>\n",
       "      <td>2075</td>\n",
       "      <td>2877</td>\n",
       "      <td>5509</td>\n",
       "      <td>6087</td>\n",
       "      <td>8141</td>\n",
       "      <td>9802</td>\n",
       "      <td>...</td>\n",
       "      <td>102167</td>\n",
       "      <td>102201</td>\n",
       "      <td>102242</td>\n",
       "      <td>102264</td>\n",
       "      <td>102293</td>\n",
       "      <td>102300</td>\n",
       "      <td>102333</td>\n",
       "      <td>102351</td>\n",
       "      <td>102367</td>\n",
       "      <td>102384</td>\n",
       "    </tr>\n",
       "    <tr>\n",
       "      <th>Colombia</th>\n",
       "      <td>0</td>\n",
       "      <td>0</td>\n",
       "      <td>0</td>\n",
       "      <td>0</td>\n",
       "      <td>0</td>\n",
       "      <td>0</td>\n",
       "      <td>0</td>\n",
       "      <td>0</td>\n",
       "      <td>0</td>\n",
       "      <td>0</td>\n",
       "      <td>...</td>\n",
       "      <td>2619422</td>\n",
       "      <td>2636076</td>\n",
       "      <td>2652947</td>\n",
       "      <td>2667136</td>\n",
       "      <td>2684101</td>\n",
       "      <td>2701313</td>\n",
       "      <td>2720619</td>\n",
       "      <td>2740544</td>\n",
       "      <td>2757274</td>\n",
       "      <td>2774464</td>\n",
       "    </tr>\n",
       "    <tr>\n",
       "      <th>Comoros</th>\n",
       "      <td>0</td>\n",
       "      <td>0</td>\n",
       "      <td>0</td>\n",
       "      <td>0</td>\n",
       "      <td>0</td>\n",
       "      <td>0</td>\n",
       "      <td>0</td>\n",
       "      <td>0</td>\n",
       "      <td>0</td>\n",
       "      <td>0</td>\n",
       "      <td>...</td>\n",
       "      <td>3815</td>\n",
       "      <td>3815</td>\n",
       "      <td>3819</td>\n",
       "      <td>3819</td>\n",
       "      <td>3820</td>\n",
       "      <td>3822</td>\n",
       "      <td>3824</td>\n",
       "      <td>3826</td>\n",
       "      <td>3829</td>\n",
       "      <td>3829</td>\n",
       "    </tr>\n",
       "    <tr>\n",
       "      <th>Congo (Brazzaville)</th>\n",
       "      <td>0</td>\n",
       "      <td>0</td>\n",
       "      <td>0</td>\n",
       "      <td>0</td>\n",
       "      <td>0</td>\n",
       "      <td>0</td>\n",
       "      <td>0</td>\n",
       "      <td>0</td>\n",
       "      <td>0</td>\n",
       "      <td>0</td>\n",
       "      <td>...</td>\n",
       "      <td>10084</td>\n",
       "      <td>10084</td>\n",
       "      <td>10084</td>\n",
       "      <td>10084</td>\n",
       "      <td>10084</td>\n",
       "      <td>10084</td>\n",
       "      <td>10084</td>\n",
       "      <td>10084</td>\n",
       "      <td>10084</td>\n",
       "      <td>10678</td>\n",
       "    </tr>\n",
       "  </tbody>\n",
       "</table>\n",
       "<p>10 rows × 460 columns</p>\n",
       "</div>"
      ],
      "text/plain": [
       "                          1/22/20  1/23/20  1/24/20  1/25/20  1/26/20  \\\n",
       "Country/Region                                                          \n",
       "Cambodia                        0        0        0        0        0   \n",
       "Cameroon                        0        0        0        0        0   \n",
       "Canada                          0        0        0        0        1   \n",
       "Central African Republic        0        0        0        0        0   \n",
       "Chad                            0        0        0        0        0   \n",
       "Chile                           0        0        0        0        0   \n",
       "China                         548      643      920     1406     2075   \n",
       "Colombia                        0        0        0        0        0   \n",
       "Comoros                         0        0        0        0        0   \n",
       "Congo (Brazzaville)             0        0        0        0        0   \n",
       "\n",
       "                          1/27/20  1/28/20  1/29/20  1/30/20  1/31/20  ...  \\\n",
       "Country/Region                                                         ...   \n",
       "Cambodia                        1        1        1        1        1  ...   \n",
       "Cameroon                        0        0        0        0        0  ...   \n",
       "Canada                          1        2        2        2        4  ...   \n",
       "Central African Republic        0        0        0        0        0  ...   \n",
       "Chad                            0        0        0        0        0  ...   \n",
       "Chile                           0        0        0        0        0  ...   \n",
       "China                        2877     5509     6087     8141     9802  ...   \n",
       "Colombia                        0        0        0        0        0  ...   \n",
       "Comoros                         0        0        0        0        0  ...   \n",
       "Congo (Brazzaville)             0        0        0        0        0  ...   \n",
       "\n",
       "                          4/16/21  4/17/21  4/18/21  4/19/21  4/20/21  \\\n",
       "Country/Region                                                          \n",
       "Cambodia                     5480     5771     6389     7013     7444   \n",
       "Cameroon                    61731    64809    64809    64809    64809   \n",
       "Canada                    1113837  1121162  1129371  1139591  1146817   \n",
       "Central African Republic     5728     5728     5787     5787     5929   \n",
       "Chad                         4686     4691     4706     4708     4723   \n",
       "Chile                     1109311  1117348  1124718  1131340  1136189   \n",
       "China                      102167   102201   102242   102264   102293   \n",
       "Colombia                  2619422  2636076  2652947  2667136  2684101   \n",
       "Comoros                      3815     3815     3819     3819     3820   \n",
       "Congo (Brazzaville)         10084    10084    10084    10084    10084   \n",
       "\n",
       "                          4/21/21  4/22/21  4/23/21  4/24/21  4/25/21  \n",
       "Country/Region                                                         \n",
       "Cambodia                     7747     8193     8848     9359     9975  \n",
       "Cameroon                    64809    64809    65998    65998    65998  \n",
       "Canada                    1155053  1164108  1172697  1180065  1186991  \n",
       "Central African Republic     6175     6175     6224     6224     6224  \n",
       "Chad                         4731     4735     4747     4752     4770  \n",
       "Chile                     1141403  1148320  1155902  1162811  1169536  \n",
       "China                      102300   102333   102351   102367   102384  \n",
       "Colombia                  2701313  2720619  2740544  2757274  2774464  \n",
       "Comoros                      3822     3824     3826     3829     3829  \n",
       "Congo (Brazzaville)         10084    10084    10084    10084    10678  \n",
       "\n",
       "[10 rows x 460 columns]"
      ]
     },
     "execution_count": 16,
     "metadata": {},
     "output_type": "execute_result"
    }
   ],
   "source": [
    "covid19_confirmados = covid19_confirmados.groupby(by=covid19_confirmados.index)[covid19_confirmados.columns].sum()\n",
    "covid19_confirmados[30:40]"
   ]
  },
  {
   "cell_type": "markdown",
   "metadata": {},
   "source": [
    "### population_by_country_2020.csv"
   ]
  },
  {
   "cell_type": "code",
   "execution_count": 10,
   "metadata": {},
   "outputs": [],
   "source": [
    " #mundiales= pd.read_csv(\"data/mundiales.csv\")"
   ]
  },
  {
   "cell_type": "markdown",
   "metadata": {},
   "source": [
    "### covid19_recuperados.csv"
   ]
  },
  {
   "cell_type": "code",
   "execution_count": null,
   "metadata": {},
   "outputs": [],
   "source": []
  },
  {
   "cell_type": "markdown",
   "metadata": {},
   "source": [
    "### covid19_decesos.csv"
   ]
  },
  {
   "cell_type": "code",
   "execution_count": null,
   "metadata": {},
   "outputs": [],
   "source": []
  },
  {
   "cell_type": "markdown",
   "metadata": {},
   "source": [
    "## Análisis Global"
   ]
  },
  {
   "cell_type": "markdown",
   "metadata": {},
   "source": [
    "### Casos activos respecto al total de confirmados"
   ]
  },
  {
   "cell_type": "code",
   "execution_count": null,
   "metadata": {},
   "outputs": [],
   "source": []
  },
  {
   "cell_type": "markdown",
   "metadata": {},
   "source": [
    "### Decesos respecto al total de casos cerrados"
   ]
  },
  {
   "cell_type": "code",
   "execution_count": null,
   "metadata": {},
   "outputs": [],
   "source": []
  },
  {
   "cell_type": "markdown",
   "metadata": {},
   "source": [
    "### Recuperados respecto al total de casos cerrados"
   ]
  },
  {
   "cell_type": "code",
   "execution_count": null,
   "metadata": {},
   "outputs": [],
   "source": []
  },
  {
   "cell_type": "markdown",
   "metadata": {},
   "source": [
    "### Tasa de Incidencia"
   ]
  },
  {
   "cell_type": "code",
   "execution_count": null,
   "metadata": {},
   "outputs": [],
   "source": []
  },
  {
   "cell_type": "markdown",
   "metadata": {},
   "source": [
    "### Tasa de Recuperación"
   ]
  },
  {
   "cell_type": "code",
   "execution_count": null,
   "metadata": {},
   "outputs": [],
   "source": []
  },
  {
   "cell_type": "markdown",
   "metadata": {},
   "source": [
    "### Tasa de Mortalidad"
   ]
  },
  {
   "cell_type": "code",
   "execution_count": null,
   "metadata": {},
   "outputs": [],
   "source": []
  },
  {
   "cell_type": "markdown",
   "metadata": {},
   "source": [
    "### Top 5"
   ]
  },
  {
   "cell_type": "markdown",
   "metadata": {},
   "source": [
    "Mayor tasa de incidencia"
   ]
  },
  {
   "cell_type": "code",
   "execution_count": null,
   "metadata": {},
   "outputs": [],
   "source": []
  },
  {
   "cell_type": "markdown",
   "metadata": {},
   "source": [
    "Menor tasa de incidencia"
   ]
  },
  {
   "cell_type": "code",
   "execution_count": null,
   "metadata": {},
   "outputs": [],
   "source": []
  },
  {
   "cell_type": "markdown",
   "metadata": {},
   "source": [
    "Mayor tasa de recuperación"
   ]
  },
  {
   "cell_type": "code",
   "execution_count": null,
   "metadata": {},
   "outputs": [],
   "source": []
  },
  {
   "cell_type": "markdown",
   "metadata": {},
   "source": [
    "Menor tasa de recuperación"
   ]
  },
  {
   "cell_type": "code",
   "execution_count": null,
   "metadata": {},
   "outputs": [],
   "source": []
  },
  {
   "cell_type": "markdown",
   "metadata": {},
   "source": [
    "Mayor tasa de mortalidad"
   ]
  },
  {
   "cell_type": "code",
   "execution_count": null,
   "metadata": {},
   "outputs": [],
   "source": []
  },
  {
   "cell_type": "markdown",
   "metadata": {},
   "source": [
    "Menor tasa de mortalidad"
   ]
  },
  {
   "cell_type": "code",
   "execution_count": null,
   "metadata": {},
   "outputs": [],
   "source": []
  },
  {
   "cell_type": "markdown",
   "metadata": {},
   "source": [
    "### Discusión"
   ]
  },
  {
   "cell_type": "markdown",
   "metadata": {},
   "source": [
    "¿En qué lugar/ranking se encuentra Chile con respecto a cada una de las métricas de los puntos anteriores?"
   ]
  },
  {
   "cell_type": "markdown",
   "metadata": {},
   "source": []
  },
  {
   "cell_type": "markdown",
   "metadata": {},
   "source": [
    " ¿A qué países de la OCDE se parece más?"
   ]
  },
  {
   "cell_type": "markdown",
   "metadata": {},
   "source": []
  },
  {
   "cell_type": "markdown",
   "metadata": {},
   "source": [
    "¿A qué paises de latinoamérica se parece más?"
   ]
  },
  {
   "cell_type": "markdown",
   "metadata": {},
   "source": []
  },
  {
   "cell_type": "markdown",
   "metadata": {},
   "source": [
    "## Análisis Temporal y Comparativo"
   ]
  },
  {
   "cell_type": "markdown",
   "metadata": {},
   "source": [
    "--------------Interfaz Gráfica-------------------"
   ]
  },
  {
   "cell_type": "markdown",
   "metadata": {},
   "source": [
    "## Dashboard Interactivo en Voila"
   ]
  },
  {
   "cell_type": "markdown",
   "metadata": {},
   "source": [
    "**Link:**"
   ]
  },
  {
   "cell_type": "code",
   "execution_count": null,
   "metadata": {},
   "outputs": [],
   "source": []
  }
 ],
 "metadata": {
  "kernelspec": {
   "display_name": "Python 3",
   "language": "python",
   "name": "python3"
  },
  "language_info": {
   "codemirror_mode": {
    "name": "ipython",
    "version": 3
   },
   "file_extension": ".py",
   "mimetype": "text/x-python",
   "name": "python",
   "nbconvert_exporter": "python",
   "pygments_lexer": "ipython3",
   "version": "3.8.8"
  },
  "toc": {
   "base_numbering": 1,
   "nav_menu": {},
   "number_sections": true,
   "sideBar": true,
   "skip_h1_title": false,
   "title_cell": "Table of Contents",
   "title_sidebar": "Contents",
   "toc_cell": false,
   "toc_position": {},
   "toc_section_display": true,
   "toc_window_display": false
  }
 },
 "nbformat": 4,
 "nbformat_minor": 2
}
